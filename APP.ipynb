{
 "cells": [
  {
   "cell_type": "markdown",
   "metadata": {},
   "source": [
    "<h1><center><font color='orange'>Credit Card Fraud Detection</center></h1>\n",
    "\n",
    "---\n",
    "\n",
    "<h4><center><font color='lightblue'>Author - Satya Dileep Penmetsa</center></h4>\n"
   ]
  },
  {
   "cell_type": "markdown",
   "metadata": {},
   "source": [
    "<img src = 'https://images.ctfassets.net/appqvz9wcil2/2jRwdiHx3CVQhzaoc9cr18/1474e4243a3f65b8bf1372566009e6d0/19_06_04_Blog-Chargeback__1_.gif'>"
   ]
  },
  {
   "cell_type": "code",
   "execution_count": 2,
   "metadata": {},
   "outputs": [
    {
     "data": {
      "text/html": [
       "        <script type=\"text/javascript\">\n",
       "        window.PlotlyConfig = {MathJaxConfig: 'local'};\n",
       "        if (window.MathJax) {MathJax.Hub.Config({SVG: {font: \"STIX-Web\"}});}\n",
       "        if (typeof require !== 'undefined') {\n",
       "        require.undef(\"plotly\");\n",
       "        requirejs.config({\n",
       "            paths: {\n",
       "                'plotly': ['https://cdn.plot.ly/plotly-latest.min']\n",
       "            }\n",
       "        });\n",
       "        require(['plotly'], function(Plotly) {\n",
       "            window._Plotly = Plotly;\n",
       "        });\n",
       "        }\n",
       "        </script>\n",
       "        "
      ]
     },
     "metadata": {},
     "output_type": "display_data"
    }
   ],
   "source": [
    "import pandas as pd\n",
    "import matplotlib\n",
    "import matplotlib.pyplot as plt\n",
    "import seaborn as sns\n",
    "%matplotlib inline \n",
    "import plotly.graph_objs as go\n",
    "import plotly.figure_factory as ff\n",
    "from plotly import tools\n",
    "from plotly.offline import download_plotlyjs, init_notebook_mode, plot, iplot\n",
    "init_notebook_mode(connected=True)\n",
    "\n",
    "import warnings\n",
    "\n",
    "# Disable warnings emitted by warnings.warn calls from different packages\n",
    "# matplotlib can show a warning with tight_layout that can be safely ignored\n",
    "\n",
    "warnings.filterwarnings('ignore')\n",
    "\n",
    "# Matplotlib\n",
    "import matplotlib as mpl\n",
    "import matplotlib.pyplot as plt\n",
    "import matplotlib.dates as mdates\n",
    "import matplotlib.patches as patches\n",
    "from matplotlib.colors import ListedColormap\n",
    "from matplotlib.colorbar import ColorbarBase\n",
    "\n",
    "# Scipy\n",
    "from scipy import interpolate\n",
    "from scipy import spatial\n",
    "from scipy import stats\n",
    "from scipy.cluster import hierarchy\n",
    "# Others\n",
    "import numpy as np\n",
    "import pandas as pd\n",
    "import datetime as dt\n",
    "import seaborn as sns\n",
    "import pickle\n",
    "from math import modf\n",
    "\n",
    "from sklearn.model_selection import cross_val_score\n",
    "from sklearn.preprocessing import LabelEncoder, StandardScaler\n",
    "from sklearn.pipeline import Pipeline\n",
    "from imblearn.over_sampling import SMOTE\n",
    "from sklearn.model_selection import train_test_split\n",
    "from sklearn.ensemble import BaggingClassifier\n",
    "from collections import Counter\n",
    "\n",
    "from sklearn.ensemble import RandomForestClassifier, AdaBoostClassifier, GradientBoostingClassifier, ExtraTreesClassifier, VotingClassifier\n",
    "from sklearn.discriminant_analysis import LinearDiscriminantAnalysis\n",
    "from sklearn.linear_model import LogisticRegression\n",
    "from sklearn.neighbors import KNeighborsClassifier\n",
    "from sklearn.tree import DecisionTreeClassifier\n",
    "from sklearn.neural_network import MLPClassifier\n",
    "from sklearn.svm import SVC\n",
    "from sklearn.model_selection import GridSearchCV, cross_val_score, StratifiedKFold, learning_curve\n",
    "from sklearn.metrics import confusion_matrix #for confusion matrix\n",
    "from sklearn.model_selection import cross_val_predict\n",
    "from sklearn.ensemble import VotingClassifier\n",
    "from sklearn.metrics import precision_score, recall_score, confusion_matrix, classification_report, accuracy_score, f1_score\n",
    "import warnings\n",
    "warnings.filterwarnings(\"ignore\", category=FutureWarning)\n",
    "\n",
    "from sklearn import metrics\n",
    "import xgboost as xgb\n",
    "from sklearn.linear_model import SGDClassifier\n",
    "\n",
    "\n",
    "sns.set(style='white', context='notebook', palette='deep')\n",
    "from sklearn.model_selection import train_test_split, KFold, cross_validate\n",
    "\n",
    "#Models\n",
    "import warnings\n",
    "warnings.filterwarnings(\"ignore\")\n",
    "\n",
    "\n",
    "from sklearn.cluster import KMeans\n",
    "from sklearn.decomposition import PCA\n",
    "\n",
    "# Display all columns\n",
    "pd.set_option('display.max_columns', None)\n",
    "pd.set_option('display.max_rows', None)\n",
    "\n",
    "from sklearn.preprocessing import MinMaxScaler\n",
    "\n",
    "from sklearn.model_selection import StratifiedShuffleSplit, KFold, GridSearchCV, RandomizedSearchCV\n",
    "from sklearn.base import BaseEstimator, TransformerMixin\n",
    "from sklearn.pipeline import Pipeline\n",
    "from sklearn.metrics import accuracy_score, classification_report, precision_recall_curve, precision_recall_fscore_support, roc_auc_score\n",
    "from sklearn.inspection import plot_partial_dependence\n",
    "\n",
    "from sklearn.tree import DecisionTreeClassifier\n",
    "from sklearn.ensemble import RandomForestClassifier, ExtraTreesClassifier, AdaBoostClassifier, GradientBoostingClassifier\n",
    "from sklearn.svm import SVC\n",
    "from sklearn.naive_bayes import GaussianNB\n",
    "from sklearn.neighbors import KNeighborsClassifier\n",
    "from xgboost import XGBClassifier  \n",
    "from sklearn.exceptions import ConvergenceWarning\n",
    "\n",
    "pd.options.display.float_format = '{:.5f}'.format\n",
    "import numpy as np\n",
    "import matplotlib.pyplot as plt\n",
    "plt.style.context('seaborn-talk')\n",
    "plt.style.use('fivethirtyeight')\n",
    "params = {'legend.fontsize': '16',\n",
    "          'figure.figsize': (15, 5),\n",
    "         'axes.labelsize': '20',\n",
    "         'axes.titlesize':'30',\n",
    "         'xtick.labelsize':'18',\n",
    "         'ytick.labelsize':'18'}\n",
    "plt.rcParams.update(params)\n",
    "\n",
    "plt.rcParams['text.color'] = '#A04000'\n",
    "plt.rcParams['xtick.color'] = '#283747'\n",
    "plt.rcParams['ytick.color'] = '#808000'\n",
    "plt.rcParams['axes.labelcolor'] = '#283747'\n",
    "\n",
    "# Seaborn style (figures)\n",
    "sns.set(context='notebook', style='whitegrid')\n",
    "sns.set_style('ticks', {'xtick.direction':'in', 'ytick.direction':'in'})\n",
    "\n",
    "from ipywidgets import interact"
   ]
  },
  {
   "cell_type": "code",
   "execution_count": 4,
   "metadata": {
    "_uuid": "42e4a9f9b53f6d46cabd00b64a0e9f52b7abcd82"
   },
   "outputs": [],
   "source": [
    "data_df = pd.read_csv(\"data/creditcard.csv\")"
   ]
  },
  {
   "cell_type": "markdown",
   "metadata": {},
   "source": [
    "<h3><center>Explore Data</center></h3>"
   ]
  },
  {
   "cell_type": "code",
   "execution_count": 5,
   "metadata": {},
   "outputs": [
    {
     "data": {
      "text/html": [
       "<style  type=\"text/css\" >\n",
       "    #T_6db8a652_7778_11eb_b77e_e0d4e838a206row0_col0 {\n",
       "            background-color:  #fbb4ae;\n",
       "            color:  #000000;\n",
       "            font-size:  9px;\n",
       "        }    #T_6db8a652_7778_11eb_b77e_e0d4e838a206row0_col1 {\n",
       "            background-color:  #fbb4ae;\n",
       "            color:  #000000;\n",
       "            font-size:  9px;\n",
       "        }    #T_6db8a652_7778_11eb_b77e_e0d4e838a206row0_col2 {\n",
       "            background-color:  #ffffcc;\n",
       "            color:  #000000;\n",
       "            font-size:  9px;\n",
       "        }    #T_6db8a652_7778_11eb_b77e_e0d4e838a206row0_col3 {\n",
       "            background-color:  #f2f2f2;\n",
       "            color:  #000000;\n",
       "            font-size:  9px;\n",
       "        }    #T_6db8a652_7778_11eb_b77e_e0d4e838a206row0_col4 {\n",
       "            background-color:  #f2f2f2;\n",
       "            color:  #000000;\n",
       "            font-size:  9px;\n",
       "        }    #T_6db8a652_7778_11eb_b77e_e0d4e838a206row0_col5 {\n",
       "            background-color:  #ccebc5;\n",
       "            color:  #000000;\n",
       "            font-size:  9px;\n",
       "        }    #T_6db8a652_7778_11eb_b77e_e0d4e838a206row0_col6 {\n",
       "            background-color:  #ccebc5;\n",
       "            color:  #000000;\n",
       "            font-size:  9px;\n",
       "        }    #T_6db8a652_7778_11eb_b77e_e0d4e838a206row0_col7 {\n",
       "            background-color:  #decbe4;\n",
       "            color:  #000000;\n",
       "            font-size:  9px;\n",
       "        }    #T_6db8a652_7778_11eb_b77e_e0d4e838a206row0_col8 {\n",
       "            background-color:  #ffffcc;\n",
       "            color:  #000000;\n",
       "            font-size:  9px;\n",
       "        }    #T_6db8a652_7778_11eb_b77e_e0d4e838a206row0_col9 {\n",
       "            background-color:  #fddaec;\n",
       "            color:  #000000;\n",
       "            font-size:  9px;\n",
       "        }    #T_6db8a652_7778_11eb_b77e_e0d4e838a206row0_col10 {\n",
       "            background-color:  #ccebc5;\n",
       "            color:  #000000;\n",
       "            font-size:  9px;\n",
       "        }    #T_6db8a652_7778_11eb_b77e_e0d4e838a206row0_col11 {\n",
       "            background-color:  #b3cde3;\n",
       "            color:  #000000;\n",
       "            font-size:  9px;\n",
       "        }    #T_6db8a652_7778_11eb_b77e_e0d4e838a206row0_col12 {\n",
       "            background-color:  #fbb4ae;\n",
       "            color:  #000000;\n",
       "            font-size:  9px;\n",
       "        }    #T_6db8a652_7778_11eb_b77e_e0d4e838a206row0_col13 {\n",
       "            background-color:  #fbb4ae;\n",
       "            color:  #000000;\n",
       "            font-size:  9px;\n",
       "        }    #T_6db8a652_7778_11eb_b77e_e0d4e838a206row0_col14 {\n",
       "            background-color:  #fddaec;\n",
       "            color:  #000000;\n",
       "            font-size:  9px;\n",
       "        }    #T_6db8a652_7778_11eb_b77e_e0d4e838a206row0_col15 {\n",
       "            background-color:  #e5d8bd;\n",
       "            color:  #000000;\n",
       "            font-size:  9px;\n",
       "        }    #T_6db8a652_7778_11eb_b77e_e0d4e838a206row0_col16 {\n",
       "            background-color:  #e5d8bd;\n",
       "            color:  #000000;\n",
       "            font-size:  9px;\n",
       "        }    #T_6db8a652_7778_11eb_b77e_e0d4e838a206row0_col17 {\n",
       "            background-color:  #fed9a6;\n",
       "            color:  #000000;\n",
       "            font-size:  9px;\n",
       "        }    #T_6db8a652_7778_11eb_b77e_e0d4e838a206row0_col18 {\n",
       "            background-color:  #fbb4ae;\n",
       "            color:  #000000;\n",
       "            font-size:  9px;\n",
       "        }    #T_6db8a652_7778_11eb_b77e_e0d4e838a206row0_col19 {\n",
       "            background-color:  #fddaec;\n",
       "            color:  #000000;\n",
       "            font-size:  9px;\n",
       "        }    #T_6db8a652_7778_11eb_b77e_e0d4e838a206row0_col20 {\n",
       "            background-color:  #ffffcc;\n",
       "            color:  #000000;\n",
       "            font-size:  9px;\n",
       "        }    #T_6db8a652_7778_11eb_b77e_e0d4e838a206row0_col21 {\n",
       "            background-color:  #decbe4;\n",
       "            color:  #000000;\n",
       "            font-size:  9px;\n",
       "        }    #T_6db8a652_7778_11eb_b77e_e0d4e838a206row0_col22 {\n",
       "            background-color:  #ffffcc;\n",
       "            color:  #000000;\n",
       "            font-size:  9px;\n",
       "        }    #T_6db8a652_7778_11eb_b77e_e0d4e838a206row0_col23 {\n",
       "            background-color:  #fbb4ae;\n",
       "            color:  #000000;\n",
       "            font-size:  9px;\n",
       "        }    #T_6db8a652_7778_11eb_b77e_e0d4e838a206row0_col24 {\n",
       "            background-color:  #f2f2f2;\n",
       "            color:  #000000;\n",
       "            font-size:  9px;\n",
       "        }    #T_6db8a652_7778_11eb_b77e_e0d4e838a206row0_col25 {\n",
       "            background-color:  #fed9a6;\n",
       "            color:  #000000;\n",
       "            font-size:  9px;\n",
       "        }    #T_6db8a652_7778_11eb_b77e_e0d4e838a206row0_col26 {\n",
       "            background-color:  #fbb4ae;\n",
       "            color:  #000000;\n",
       "            font-size:  9px;\n",
       "        }    #T_6db8a652_7778_11eb_b77e_e0d4e838a206row0_col27 {\n",
       "            background-color:  #e5d8bd;\n",
       "            color:  #000000;\n",
       "            font-size:  9px;\n",
       "        }    #T_6db8a652_7778_11eb_b77e_e0d4e838a206row0_col28 {\n",
       "            background-color:  #b3cde3;\n",
       "            color:  #000000;\n",
       "            font-size:  9px;\n",
       "        }    #T_6db8a652_7778_11eb_b77e_e0d4e838a206row0_col29 {\n",
       "            background-color:  #decbe4;\n",
       "            color:  #000000;\n",
       "            font-size:  9px;\n",
       "        }    #T_6db8a652_7778_11eb_b77e_e0d4e838a206row0_col30 {\n",
       "            background-color:  #fbb4ae;\n",
       "            color:  #000000;\n",
       "            font-size:  9px;\n",
       "        }    #T_6db8a652_7778_11eb_b77e_e0d4e838a206row1_col0 {\n",
       "            background-color:  #fbb4ae;\n",
       "            color:  #000000;\n",
       "            font-size:  9px;\n",
       "        }    #T_6db8a652_7778_11eb_b77e_e0d4e838a206row1_col1 {\n",
       "            background-color:  #f2f2f2;\n",
       "            color:  #000000;\n",
       "            font-size:  9px;\n",
       "        }    #T_6db8a652_7778_11eb_b77e_e0d4e838a206row1_col2 {\n",
       "            background-color:  #e5d8bd;\n",
       "            color:  #000000;\n",
       "            font-size:  9px;\n",
       "        }    #T_6db8a652_7778_11eb_b77e_e0d4e838a206row1_col3 {\n",
       "            background-color:  #fbb4ae;\n",
       "            color:  #000000;\n",
       "            font-size:  9px;\n",
       "        }    #T_6db8a652_7778_11eb_b77e_e0d4e838a206row1_col4 {\n",
       "            background-color:  #ffffcc;\n",
       "            color:  #000000;\n",
       "            font-size:  9px;\n",
       "        }    #T_6db8a652_7778_11eb_b77e_e0d4e838a206row1_col5 {\n",
       "            background-color:  #f2f2f2;\n",
       "            color:  #000000;\n",
       "            font-size:  9px;\n",
       "        }    #T_6db8a652_7778_11eb_b77e_e0d4e838a206row1_col6 {\n",
       "            background-color:  #fbb4ae;\n",
       "            color:  #000000;\n",
       "            font-size:  9px;\n",
       "        }    #T_6db8a652_7778_11eb_b77e_e0d4e838a206row1_col7 {\n",
       "            background-color:  #fbb4ae;\n",
       "            color:  #000000;\n",
       "            font-size:  9px;\n",
       "        }    #T_6db8a652_7778_11eb_b77e_e0d4e838a206row1_col8 {\n",
       "            background-color:  #fed9a6;\n",
       "            color:  #000000;\n",
       "            font-size:  9px;\n",
       "        }    #T_6db8a652_7778_11eb_b77e_e0d4e838a206row1_col9 {\n",
       "            background-color:  #fed9a6;\n",
       "            color:  #000000;\n",
       "            font-size:  9px;\n",
       "        }    #T_6db8a652_7778_11eb_b77e_e0d4e838a206row1_col10 {\n",
       "            background-color:  #fbb4ae;\n",
       "            color:  #000000;\n",
       "            font-size:  9px;\n",
       "        }    #T_6db8a652_7778_11eb_b77e_e0d4e838a206row1_col11 {\n",
       "            background-color:  #f2f2f2;\n",
       "            color:  #000000;\n",
       "            font-size:  9px;\n",
       "        }    #T_6db8a652_7778_11eb_b77e_e0d4e838a206row1_col12 {\n",
       "            background-color:  #f2f2f2;\n",
       "            color:  #000000;\n",
       "            font-size:  9px;\n",
       "        }    #T_6db8a652_7778_11eb_b77e_e0d4e838a206row1_col13 {\n",
       "            background-color:  #ffffcc;\n",
       "            color:  #000000;\n",
       "            font-size:  9px;\n",
       "        }    #T_6db8a652_7778_11eb_b77e_e0d4e838a206row1_col14 {\n",
       "            background-color:  #f2f2f2;\n",
       "            color:  #000000;\n",
       "            font-size:  9px;\n",
       "        }    #T_6db8a652_7778_11eb_b77e_e0d4e838a206row1_col15 {\n",
       "            background-color:  #decbe4;\n",
       "            color:  #000000;\n",
       "            font-size:  9px;\n",
       "        }    #T_6db8a652_7778_11eb_b77e_e0d4e838a206row1_col16 {\n",
       "            background-color:  #f2f2f2;\n",
       "            color:  #000000;\n",
       "            font-size:  9px;\n",
       "        }    #T_6db8a652_7778_11eb_b77e_e0d4e838a206row1_col17 {\n",
       "            background-color:  #ccebc5;\n",
       "            color:  #000000;\n",
       "            font-size:  9px;\n",
       "        }    #T_6db8a652_7778_11eb_b77e_e0d4e838a206row1_col18 {\n",
       "            background-color:  #fbb4ae;\n",
       "            color:  #000000;\n",
       "            font-size:  9px;\n",
       "        }    #T_6db8a652_7778_11eb_b77e_e0d4e838a206row1_col19 {\n",
       "            background-color:  #e5d8bd;\n",
       "            color:  #000000;\n",
       "            font-size:  9px;\n",
       "        }    #T_6db8a652_7778_11eb_b77e_e0d4e838a206row1_col20 {\n",
       "            background-color:  #b3cde3;\n",
       "            color:  #000000;\n",
       "            font-size:  9px;\n",
       "        }    #T_6db8a652_7778_11eb_b77e_e0d4e838a206row1_col21 {\n",
       "            background-color:  #fbb4ae;\n",
       "            color:  #000000;\n",
       "            font-size:  9px;\n",
       "        }    #T_6db8a652_7778_11eb_b77e_e0d4e838a206row1_col22 {\n",
       "            background-color:  #fbb4ae;\n",
       "            color:  #000000;\n",
       "            font-size:  9px;\n",
       "        }    #T_6db8a652_7778_11eb_b77e_e0d4e838a206row1_col23 {\n",
       "            background-color:  #ccebc5;\n",
       "            color:  #000000;\n",
       "            font-size:  9px;\n",
       "        }    #T_6db8a652_7778_11eb_b77e_e0d4e838a206row1_col24 {\n",
       "            background-color:  #ffffcc;\n",
       "            color:  #000000;\n",
       "            font-size:  9px;\n",
       "        }    #T_6db8a652_7778_11eb_b77e_e0d4e838a206row1_col25 {\n",
       "            background-color:  #fed9a6;\n",
       "            color:  #000000;\n",
       "            font-size:  9px;\n",
       "        }    #T_6db8a652_7778_11eb_b77e_e0d4e838a206row1_col26 {\n",
       "            background-color:  #fed9a6;\n",
       "            color:  #000000;\n",
       "            font-size:  9px;\n",
       "        }    #T_6db8a652_7778_11eb_b77e_e0d4e838a206row1_col27 {\n",
       "            background-color:  #b3cde3;\n",
       "            color:  #000000;\n",
       "            font-size:  9px;\n",
       "        }    #T_6db8a652_7778_11eb_b77e_e0d4e838a206row1_col28 {\n",
       "            background-color:  #ccebc5;\n",
       "            color:  #000000;\n",
       "            font-size:  9px;\n",
       "        }    #T_6db8a652_7778_11eb_b77e_e0d4e838a206row1_col29 {\n",
       "            background-color:  #fbb4ae;\n",
       "            color:  #000000;\n",
       "            font-size:  9px;\n",
       "        }    #T_6db8a652_7778_11eb_b77e_e0d4e838a206row1_col30 {\n",
       "            background-color:  #fbb4ae;\n",
       "            color:  #000000;\n",
       "            font-size:  9px;\n",
       "        }    #T_6db8a652_7778_11eb_b77e_e0d4e838a206row2_col0 {\n",
       "            background-color:  #fed9a6;\n",
       "            color:  #000000;\n",
       "            font-size:  9px;\n",
       "        }    #T_6db8a652_7778_11eb_b77e_e0d4e838a206row2_col1 {\n",
       "            background-color:  #fbb4ae;\n",
       "            color:  #000000;\n",
       "            font-size:  9px;\n",
       "        }    #T_6db8a652_7778_11eb_b77e_e0d4e838a206row2_col2 {\n",
       "            background-color:  #fbb4ae;\n",
       "            color:  #000000;\n",
       "            font-size:  9px;\n",
       "        }    #T_6db8a652_7778_11eb_b77e_e0d4e838a206row2_col3 {\n",
       "            background-color:  #e5d8bd;\n",
       "            color:  #000000;\n",
       "            font-size:  9px;\n",
       "        }    #T_6db8a652_7778_11eb_b77e_e0d4e838a206row2_col4 {\n",
       "            background-color:  #fed9a6;\n",
       "            color:  #000000;\n",
       "            font-size:  9px;\n",
       "        }    #T_6db8a652_7778_11eb_b77e_e0d4e838a206row2_col5 {\n",
       "            background-color:  #fbb4ae;\n",
       "            color:  #000000;\n",
       "            font-size:  9px;\n",
       "        }    #T_6db8a652_7778_11eb_b77e_e0d4e838a206row2_col6 {\n",
       "            background-color:  #f2f2f2;\n",
       "            color:  #000000;\n",
       "            font-size:  9px;\n",
       "        }    #T_6db8a652_7778_11eb_b77e_e0d4e838a206row2_col7 {\n",
       "            background-color:  #f2f2f2;\n",
       "            color:  #000000;\n",
       "            font-size:  9px;\n",
       "        }    #T_6db8a652_7778_11eb_b77e_e0d4e838a206row2_col8 {\n",
       "            background-color:  #fddaec;\n",
       "            color:  #000000;\n",
       "            font-size:  9px;\n",
       "        }    #T_6db8a652_7778_11eb_b77e_e0d4e838a206row2_col9 {\n",
       "            background-color:  #fbb4ae;\n",
       "            color:  #000000;\n",
       "            font-size:  9px;\n",
       "        }    #T_6db8a652_7778_11eb_b77e_e0d4e838a206row2_col10 {\n",
       "            background-color:  #decbe4;\n",
       "            color:  #000000;\n",
       "            font-size:  9px;\n",
       "        }    #T_6db8a652_7778_11eb_b77e_e0d4e838a206row2_col11 {\n",
       "            background-color:  #ffffcc;\n",
       "            color:  #000000;\n",
       "            font-size:  9px;\n",
       "        }    #T_6db8a652_7778_11eb_b77e_e0d4e838a206row2_col12 {\n",
       "            background-color:  #decbe4;\n",
       "            color:  #000000;\n",
       "            font-size:  9px;\n",
       "        }    #T_6db8a652_7778_11eb_b77e_e0d4e838a206row2_col13 {\n",
       "            background-color:  #e5d8bd;\n",
       "            color:  #000000;\n",
       "            font-size:  9px;\n",
       "        }    #T_6db8a652_7778_11eb_b77e_e0d4e838a206row2_col14 {\n",
       "            background-color:  #f2f2f2;\n",
       "            color:  #000000;\n",
       "            font-size:  9px;\n",
       "        }    #T_6db8a652_7778_11eb_b77e_e0d4e838a206row2_col15 {\n",
       "            background-color:  #f2f2f2;\n",
       "            color:  #000000;\n",
       "            font-size:  9px;\n",
       "        }    #T_6db8a652_7778_11eb_b77e_e0d4e838a206row2_col16 {\n",
       "            background-color:  #fbb4ae;\n",
       "            color:  #000000;\n",
       "            font-size:  9px;\n",
       "        }    #T_6db8a652_7778_11eb_b77e_e0d4e838a206row2_col17 {\n",
       "            background-color:  #f2f2f2;\n",
       "            color:  #000000;\n",
       "            font-size:  9px;\n",
       "        }    #T_6db8a652_7778_11eb_b77e_e0d4e838a206row2_col18 {\n",
       "            background-color:  #fbb4ae;\n",
       "            color:  #000000;\n",
       "            font-size:  9px;\n",
       "        }    #T_6db8a652_7778_11eb_b77e_e0d4e838a206row2_col19 {\n",
       "            background-color:  #fbb4ae;\n",
       "            color:  #000000;\n",
       "            font-size:  9px;\n",
       "        }    #T_6db8a652_7778_11eb_b77e_e0d4e838a206row2_col20 {\n",
       "            background-color:  #f2f2f2;\n",
       "            color:  #000000;\n",
       "            font-size:  9px;\n",
       "        }    #T_6db8a652_7778_11eb_b77e_e0d4e838a206row2_col21 {\n",
       "            background-color:  #f2f2f2;\n",
       "            color:  #000000;\n",
       "            font-size:  9px;\n",
       "        }    #T_6db8a652_7778_11eb_b77e_e0d4e838a206row2_col22 {\n",
       "            background-color:  #f2f2f2;\n",
       "            color:  #000000;\n",
       "            font-size:  9px;\n",
       "        }    #T_6db8a652_7778_11eb_b77e_e0d4e838a206row2_col23 {\n",
       "            background-color:  #f2f2f2;\n",
       "            color:  #000000;\n",
       "            font-size:  9px;\n",
       "        }    #T_6db8a652_7778_11eb_b77e_e0d4e838a206row2_col24 {\n",
       "            background-color:  #decbe4;\n",
       "            color:  #000000;\n",
       "            font-size:  9px;\n",
       "        }    #T_6db8a652_7778_11eb_b77e_e0d4e838a206row2_col25 {\n",
       "            background-color:  #fbb4ae;\n",
       "            color:  #000000;\n",
       "            font-size:  9px;\n",
       "        }    #T_6db8a652_7778_11eb_b77e_e0d4e838a206row2_col26 {\n",
       "            background-color:  #b3cde3;\n",
       "            color:  #000000;\n",
       "            font-size:  9px;\n",
       "        }    #T_6db8a652_7778_11eb_b77e_e0d4e838a206row2_col27 {\n",
       "            background-color:  #fbb4ae;\n",
       "            color:  #000000;\n",
       "            font-size:  9px;\n",
       "        }    #T_6db8a652_7778_11eb_b77e_e0d4e838a206row2_col28 {\n",
       "            background-color:  #fbb4ae;\n",
       "            color:  #000000;\n",
       "            font-size:  9px;\n",
       "        }    #T_6db8a652_7778_11eb_b77e_e0d4e838a206row2_col29 {\n",
       "            background-color:  #f2f2f2;\n",
       "            color:  #000000;\n",
       "            font-size:  9px;\n",
       "        }    #T_6db8a652_7778_11eb_b77e_e0d4e838a206row2_col30 {\n",
       "            background-color:  #fbb4ae;\n",
       "            color:  #000000;\n",
       "            font-size:  9px;\n",
       "        }    #T_6db8a652_7778_11eb_b77e_e0d4e838a206row3_col0 {\n",
       "            background-color:  #fed9a6;\n",
       "            color:  #000000;\n",
       "            font-size:  9px;\n",
       "        }    #T_6db8a652_7778_11eb_b77e_e0d4e838a206row3_col1 {\n",
       "            background-color:  #b3cde3;\n",
       "            color:  #000000;\n",
       "            font-size:  9px;\n",
       "        }    #T_6db8a652_7778_11eb_b77e_e0d4e838a206row3_col2 {\n",
       "            background-color:  #fed9a6;\n",
       "            color:  #000000;\n",
       "            font-size:  9px;\n",
       "        }    #T_6db8a652_7778_11eb_b77e_e0d4e838a206row3_col3 {\n",
       "            background-color:  #e5d8bd;\n",
       "            color:  #000000;\n",
       "            font-size:  9px;\n",
       "        }    #T_6db8a652_7778_11eb_b77e_e0d4e838a206row3_col4 {\n",
       "            background-color:  #fbb4ae;\n",
       "            color:  #000000;\n",
       "            font-size:  9px;\n",
       "        }    #T_6db8a652_7778_11eb_b77e_e0d4e838a206row3_col5 {\n",
       "            background-color:  #fddaec;\n",
       "            color:  #000000;\n",
       "            font-size:  9px;\n",
       "        }    #T_6db8a652_7778_11eb_b77e_e0d4e838a206row3_col6 {\n",
       "            background-color:  #e5d8bd;\n",
       "            color:  #000000;\n",
       "            font-size:  9px;\n",
       "        }    #T_6db8a652_7778_11eb_b77e_e0d4e838a206row3_col7 {\n",
       "            background-color:  #decbe4;\n",
       "            color:  #000000;\n",
       "            font-size:  9px;\n",
       "        }    #T_6db8a652_7778_11eb_b77e_e0d4e838a206row3_col8 {\n",
       "            background-color:  #f2f2f2;\n",
       "            color:  #000000;\n",
       "            font-size:  9px;\n",
       "        }    #T_6db8a652_7778_11eb_b77e_e0d4e838a206row3_col9 {\n",
       "            background-color:  #fbb4ae;\n",
       "            color:  #000000;\n",
       "            font-size:  9px;\n",
       "        }    #T_6db8a652_7778_11eb_b77e_e0d4e838a206row3_col10 {\n",
       "            background-color:  #b3cde3;\n",
       "            color:  #000000;\n",
       "            font-size:  9px;\n",
       "        }    #T_6db8a652_7778_11eb_b77e_e0d4e838a206row3_col11 {\n",
       "            background-color:  #ccebc5;\n",
       "            color:  #000000;\n",
       "            font-size:  9px;\n",
       "        }    #T_6db8a652_7778_11eb_b77e_e0d4e838a206row3_col12 {\n",
       "            background-color:  #fed9a6;\n",
       "            color:  #000000;\n",
       "            font-size:  9px;\n",
       "        }    #T_6db8a652_7778_11eb_b77e_e0d4e838a206row3_col13 {\n",
       "            background-color:  #ffffcc;\n",
       "            color:  #000000;\n",
       "            font-size:  9px;\n",
       "        }    #T_6db8a652_7778_11eb_b77e_e0d4e838a206row3_col14 {\n",
       "            background-color:  #fddaec;\n",
       "            color:  #000000;\n",
       "            font-size:  9px;\n",
       "        }    #T_6db8a652_7778_11eb_b77e_e0d4e838a206row3_col15 {\n",
       "            background-color:  #fbb4ae;\n",
       "            color:  #000000;\n",
       "            font-size:  9px;\n",
       "        }    #T_6db8a652_7778_11eb_b77e_e0d4e838a206row3_col16 {\n",
       "            background-color:  #fed9a6;\n",
       "            color:  #000000;\n",
       "            font-size:  9px;\n",
       "        }    #T_6db8a652_7778_11eb_b77e_e0d4e838a206row3_col17 {\n",
       "            background-color:  #fbb4ae;\n",
       "            color:  #000000;\n",
       "            font-size:  9px;\n",
       "        }    #T_6db8a652_7778_11eb_b77e_e0d4e838a206row3_col18 {\n",
       "            background-color:  #f2f2f2;\n",
       "            color:  #000000;\n",
       "            font-size:  9px;\n",
       "        }    #T_6db8a652_7778_11eb_b77e_e0d4e838a206row3_col19 {\n",
       "            background-color:  #decbe4;\n",
       "            color:  #000000;\n",
       "            font-size:  9px;\n",
       "        }    #T_6db8a652_7778_11eb_b77e_e0d4e838a206row3_col20 {\n",
       "            background-color:  #fbb4ae;\n",
       "            color:  #000000;\n",
       "            font-size:  9px;\n",
       "        }    #T_6db8a652_7778_11eb_b77e_e0d4e838a206row3_col21 {\n",
       "            background-color:  #ccebc5;\n",
       "            color:  #000000;\n",
       "            font-size:  9px;\n",
       "        }    #T_6db8a652_7778_11eb_b77e_e0d4e838a206row3_col22 {\n",
       "            background-color:  #fed9a6;\n",
       "            color:  #000000;\n",
       "            font-size:  9px;\n",
       "        }    #T_6db8a652_7778_11eb_b77e_e0d4e838a206row3_col23 {\n",
       "            background-color:  #fbb4ae;\n",
       "            color:  #000000;\n",
       "            font-size:  9px;\n",
       "        }    #T_6db8a652_7778_11eb_b77e_e0d4e838a206row3_col24 {\n",
       "            background-color:  #fbb4ae;\n",
       "            color:  #000000;\n",
       "            font-size:  9px;\n",
       "        }    #T_6db8a652_7778_11eb_b77e_e0d4e838a206row3_col25 {\n",
       "            background-color:  #f2f2f2;\n",
       "            color:  #000000;\n",
       "            font-size:  9px;\n",
       "        }    #T_6db8a652_7778_11eb_b77e_e0d4e838a206row3_col26 {\n",
       "            background-color:  #fbb4ae;\n",
       "            color:  #000000;\n",
       "            font-size:  9px;\n",
       "        }    #T_6db8a652_7778_11eb_b77e_e0d4e838a206row3_col27 {\n",
       "            background-color:  #decbe4;\n",
       "            color:  #000000;\n",
       "            font-size:  9px;\n",
       "        }    #T_6db8a652_7778_11eb_b77e_e0d4e838a206row3_col28 {\n",
       "            background-color:  #decbe4;\n",
       "            color:  #000000;\n",
       "            font-size:  9px;\n",
       "        }    #T_6db8a652_7778_11eb_b77e_e0d4e838a206row3_col29 {\n",
       "            background-color:  #ccebc5;\n",
       "            color:  #000000;\n",
       "            font-size:  9px;\n",
       "        }    #T_6db8a652_7778_11eb_b77e_e0d4e838a206row3_col30 {\n",
       "            background-color:  #fbb4ae;\n",
       "            color:  #000000;\n",
       "            font-size:  9px;\n",
       "        }    #T_6db8a652_7778_11eb_b77e_e0d4e838a206row4_col0 {\n",
       "            background-color:  #f2f2f2;\n",
       "            color:  #000000;\n",
       "            font-size:  9px;\n",
       "        }    #T_6db8a652_7778_11eb_b77e_e0d4e838a206row4_col1 {\n",
       "            background-color:  #fbb4ae;\n",
       "            color:  #000000;\n",
       "            font-size:  9px;\n",
       "        }    #T_6db8a652_7778_11eb_b77e_e0d4e838a206row4_col2 {\n",
       "            background-color:  #f2f2f2;\n",
       "            color:  #000000;\n",
       "            font-size:  9px;\n",
       "        }    #T_6db8a652_7778_11eb_b77e_e0d4e838a206row4_col3 {\n",
       "            background-color:  #ffffcc;\n",
       "            color:  #000000;\n",
       "            font-size:  9px;\n",
       "        }    #T_6db8a652_7778_11eb_b77e_e0d4e838a206row4_col4 {\n",
       "            background-color:  #ffffcc;\n",
       "            color:  #000000;\n",
       "            font-size:  9px;\n",
       "        }    #T_6db8a652_7778_11eb_b77e_e0d4e838a206row4_col5 {\n",
       "            background-color:  #b3cde3;\n",
       "            color:  #000000;\n",
       "            font-size:  9px;\n",
       "        }    #T_6db8a652_7778_11eb_b77e_e0d4e838a206row4_col6 {\n",
       "            background-color:  #fbb4ae;\n",
       "            color:  #000000;\n",
       "            font-size:  9px;\n",
       "        }    #T_6db8a652_7778_11eb_b77e_e0d4e838a206row4_col7 {\n",
       "            background-color:  #e5d8bd;\n",
       "            color:  #000000;\n",
       "            font-size:  9px;\n",
       "        }    #T_6db8a652_7778_11eb_b77e_e0d4e838a206row4_col8 {\n",
       "            background-color:  #fbb4ae;\n",
       "            color:  #000000;\n",
       "            font-size:  9px;\n",
       "        }    #T_6db8a652_7778_11eb_b77e_e0d4e838a206row4_col9 {\n",
       "            background-color:  #f2f2f2;\n",
       "            color:  #000000;\n",
       "            font-size:  9px;\n",
       "        }    #T_6db8a652_7778_11eb_b77e_e0d4e838a206row4_col10 {\n",
       "            background-color:  #f2f2f2;\n",
       "            color:  #000000;\n",
       "            font-size:  9px;\n",
       "        }    #T_6db8a652_7778_11eb_b77e_e0d4e838a206row4_col11 {\n",
       "            background-color:  #fbb4ae;\n",
       "            color:  #000000;\n",
       "            font-size:  9px;\n",
       "        }    #T_6db8a652_7778_11eb_b77e_e0d4e838a206row4_col12 {\n",
       "            background-color:  #e5d8bd;\n",
       "            color:  #000000;\n",
       "            font-size:  9px;\n",
       "        }    #T_6db8a652_7778_11eb_b77e_e0d4e838a206row4_col13 {\n",
       "            background-color:  #f2f2f2;\n",
       "            color:  #000000;\n",
       "            font-size:  9px;\n",
       "        }    #T_6db8a652_7778_11eb_b77e_e0d4e838a206row4_col14 {\n",
       "            background-color:  #fbb4ae;\n",
       "            color:  #000000;\n",
       "            font-size:  9px;\n",
       "        }    #T_6db8a652_7778_11eb_b77e_e0d4e838a206row4_col15 {\n",
       "            background-color:  #ccebc5;\n",
       "            color:  #000000;\n",
       "            font-size:  9px;\n",
       "        }    #T_6db8a652_7778_11eb_b77e_e0d4e838a206row4_col16 {\n",
       "            background-color:  #e5d8bd;\n",
       "            color:  #000000;\n",
       "            font-size:  9px;\n",
       "        }    #T_6db8a652_7778_11eb_b77e_e0d4e838a206row4_col17 {\n",
       "            background-color:  #ccebc5;\n",
       "            color:  #000000;\n",
       "            font-size:  9px;\n",
       "        }    #T_6db8a652_7778_11eb_b77e_e0d4e838a206row4_col18 {\n",
       "            background-color:  #fbb4ae;\n",
       "            color:  #000000;\n",
       "            font-size:  9px;\n",
       "        }    #T_6db8a652_7778_11eb_b77e_e0d4e838a206row4_col19 {\n",
       "            background-color:  #f2f2f2;\n",
       "            color:  #000000;\n",
       "            font-size:  9px;\n",
       "        }    #T_6db8a652_7778_11eb_b77e_e0d4e838a206row4_col20 {\n",
       "            background-color:  #fddaec;\n",
       "            color:  #000000;\n",
       "            font-size:  9px;\n",
       "        }    #T_6db8a652_7778_11eb_b77e_e0d4e838a206row4_col21 {\n",
       "            background-color:  #fed9a6;\n",
       "            color:  #000000;\n",
       "            font-size:  9px;\n",
       "        }    #T_6db8a652_7778_11eb_b77e_e0d4e838a206row4_col22 {\n",
       "            background-color:  #f2f2f2;\n",
       "            color:  #000000;\n",
       "            font-size:  9px;\n",
       "        }    #T_6db8a652_7778_11eb_b77e_e0d4e838a206row4_col23 {\n",
       "            background-color:  #fbb4ae;\n",
       "            color:  #000000;\n",
       "            font-size:  9px;\n",
       "        }    #T_6db8a652_7778_11eb_b77e_e0d4e838a206row4_col24 {\n",
       "            background-color:  #f2f2f2;\n",
       "            color:  #000000;\n",
       "            font-size:  9px;\n",
       "        }    #T_6db8a652_7778_11eb_b77e_e0d4e838a206row4_col25 {\n",
       "            background-color:  #b3cde3;\n",
       "            color:  #000000;\n",
       "            font-size:  9px;\n",
       "        }    #T_6db8a652_7778_11eb_b77e_e0d4e838a206row4_col26 {\n",
       "            background-color:  #f2f2f2;\n",
       "            color:  #000000;\n",
       "            font-size:  9px;\n",
       "        }    #T_6db8a652_7778_11eb_b77e_e0d4e838a206row4_col27 {\n",
       "            background-color:  #f2f2f2;\n",
       "            color:  #000000;\n",
       "            font-size:  9px;\n",
       "        }    #T_6db8a652_7778_11eb_b77e_e0d4e838a206row4_col28 {\n",
       "            background-color:  #f2f2f2;\n",
       "            color:  #000000;\n",
       "            font-size:  9px;\n",
       "        }    #T_6db8a652_7778_11eb_b77e_e0d4e838a206row4_col29 {\n",
       "            background-color:  #b3cde3;\n",
       "            color:  #000000;\n",
       "            font-size:  9px;\n",
       "        }    #T_6db8a652_7778_11eb_b77e_e0d4e838a206row4_col30 {\n",
       "            background-color:  #fbb4ae;\n",
       "            color:  #000000;\n",
       "            font-size:  9px;\n",
       "        }</style><table id=\"T_6db8a652_7778_11eb_b77e_e0d4e838a206\" ><thead>    <tr>        <th class=\"blank level0\" ></th>        <th class=\"col_heading level0 col0\" >Time</th>        <th class=\"col_heading level0 col1\" >V1</th>        <th class=\"col_heading level0 col2\" >V2</th>        <th class=\"col_heading level0 col3\" >V3</th>        <th class=\"col_heading level0 col4\" >V4</th>        <th class=\"col_heading level0 col5\" >V5</th>        <th class=\"col_heading level0 col6\" >V6</th>        <th class=\"col_heading level0 col7\" >V7</th>        <th class=\"col_heading level0 col8\" >V8</th>        <th class=\"col_heading level0 col9\" >V9</th>        <th class=\"col_heading level0 col10\" >V10</th>        <th class=\"col_heading level0 col11\" >V11</th>        <th class=\"col_heading level0 col12\" >V12</th>        <th class=\"col_heading level0 col13\" >V13</th>        <th class=\"col_heading level0 col14\" >V14</th>        <th class=\"col_heading level0 col15\" >V15</th>        <th class=\"col_heading level0 col16\" >V16</th>        <th class=\"col_heading level0 col17\" >V17</th>        <th class=\"col_heading level0 col18\" >V18</th>        <th class=\"col_heading level0 col19\" >V19</th>        <th class=\"col_heading level0 col20\" >V20</th>        <th class=\"col_heading level0 col21\" >V21</th>        <th class=\"col_heading level0 col22\" >V22</th>        <th class=\"col_heading level0 col23\" >V23</th>        <th class=\"col_heading level0 col24\" >V24</th>        <th class=\"col_heading level0 col25\" >V25</th>        <th class=\"col_heading level0 col26\" >V26</th>        <th class=\"col_heading level0 col27\" >V27</th>        <th class=\"col_heading level0 col28\" >V28</th>        <th class=\"col_heading level0 col29\" >Amount</th>        <th class=\"col_heading level0 col30\" >Class</th>    </tr></thead><tbody>\n",
       "                <tr>\n",
       "                        <th id=\"T_6db8a652_7778_11eb_b77e_e0d4e838a206level0_row0\" class=\"row_heading level0 row0\" >0</th>\n",
       "                        <td id=\"T_6db8a652_7778_11eb_b77e_e0d4e838a206row0_col0\" class=\"data row0 col0\" >0.000000</td>\n",
       "                        <td id=\"T_6db8a652_7778_11eb_b77e_e0d4e838a206row0_col1\" class=\"data row0 col1\" >-1.359807</td>\n",
       "                        <td id=\"T_6db8a652_7778_11eb_b77e_e0d4e838a206row0_col2\" class=\"data row0 col2\" >-0.072781</td>\n",
       "                        <td id=\"T_6db8a652_7778_11eb_b77e_e0d4e838a206row0_col3\" class=\"data row0 col3\" >2.536347</td>\n",
       "                        <td id=\"T_6db8a652_7778_11eb_b77e_e0d4e838a206row0_col4\" class=\"data row0 col4\" >1.378155</td>\n",
       "                        <td id=\"T_6db8a652_7778_11eb_b77e_e0d4e838a206row0_col5\" class=\"data row0 col5\" >-0.338321</td>\n",
       "                        <td id=\"T_6db8a652_7778_11eb_b77e_e0d4e838a206row0_col6\" class=\"data row0 col6\" >0.462388</td>\n",
       "                        <td id=\"T_6db8a652_7778_11eb_b77e_e0d4e838a206row0_col7\" class=\"data row0 col7\" >0.239599</td>\n",
       "                        <td id=\"T_6db8a652_7778_11eb_b77e_e0d4e838a206row0_col8\" class=\"data row0 col8\" >0.098698</td>\n",
       "                        <td id=\"T_6db8a652_7778_11eb_b77e_e0d4e838a206row0_col9\" class=\"data row0 col9\" >0.363787</td>\n",
       "                        <td id=\"T_6db8a652_7778_11eb_b77e_e0d4e838a206row0_col10\" class=\"data row0 col10\" >0.090794</td>\n",
       "                        <td id=\"T_6db8a652_7778_11eb_b77e_e0d4e838a206row0_col11\" class=\"data row0 col11\" >-0.551600</td>\n",
       "                        <td id=\"T_6db8a652_7778_11eb_b77e_e0d4e838a206row0_col12\" class=\"data row0 col12\" >-0.617801</td>\n",
       "                        <td id=\"T_6db8a652_7778_11eb_b77e_e0d4e838a206row0_col13\" class=\"data row0 col13\" >-0.991390</td>\n",
       "                        <td id=\"T_6db8a652_7778_11eb_b77e_e0d4e838a206row0_col14\" class=\"data row0 col14\" >-0.311169</td>\n",
       "                        <td id=\"T_6db8a652_7778_11eb_b77e_e0d4e838a206row0_col15\" class=\"data row0 col15\" >1.468177</td>\n",
       "                        <td id=\"T_6db8a652_7778_11eb_b77e_e0d4e838a206row0_col16\" class=\"data row0 col16\" >-0.470401</td>\n",
       "                        <td id=\"T_6db8a652_7778_11eb_b77e_e0d4e838a206row0_col17\" class=\"data row0 col17\" >0.207971</td>\n",
       "                        <td id=\"T_6db8a652_7778_11eb_b77e_e0d4e838a206row0_col18\" class=\"data row0 col18\" >0.025791</td>\n",
       "                        <td id=\"T_6db8a652_7778_11eb_b77e_e0d4e838a206row0_col19\" class=\"data row0 col19\" >0.403993</td>\n",
       "                        <td id=\"T_6db8a652_7778_11eb_b77e_e0d4e838a206row0_col20\" class=\"data row0 col20\" >0.251412</td>\n",
       "                        <td id=\"T_6db8a652_7778_11eb_b77e_e0d4e838a206row0_col21\" class=\"data row0 col21\" >-0.018307</td>\n",
       "                        <td id=\"T_6db8a652_7778_11eb_b77e_e0d4e838a206row0_col22\" class=\"data row0 col22\" >0.277838</td>\n",
       "                        <td id=\"T_6db8a652_7778_11eb_b77e_e0d4e838a206row0_col23\" class=\"data row0 col23\" >-0.110474</td>\n",
       "                        <td id=\"T_6db8a652_7778_11eb_b77e_e0d4e838a206row0_col24\" class=\"data row0 col24\" >0.066928</td>\n",
       "                        <td id=\"T_6db8a652_7778_11eb_b77e_e0d4e838a206row0_col25\" class=\"data row0 col25\" >0.128539</td>\n",
       "                        <td id=\"T_6db8a652_7778_11eb_b77e_e0d4e838a206row0_col26\" class=\"data row0 col26\" >-0.189115</td>\n",
       "                        <td id=\"T_6db8a652_7778_11eb_b77e_e0d4e838a206row0_col27\" class=\"data row0 col27\" >0.133558</td>\n",
       "                        <td id=\"T_6db8a652_7778_11eb_b77e_e0d4e838a206row0_col28\" class=\"data row0 col28\" >-0.021053</td>\n",
       "                        <td id=\"T_6db8a652_7778_11eb_b77e_e0d4e838a206row0_col29\" class=\"data row0 col29\" >149.620000</td>\n",
       "                        <td id=\"T_6db8a652_7778_11eb_b77e_e0d4e838a206row0_col30\" class=\"data row0 col30\" >0</td>\n",
       "            </tr>\n",
       "            <tr>\n",
       "                        <th id=\"T_6db8a652_7778_11eb_b77e_e0d4e838a206level0_row1\" class=\"row_heading level0 row1\" >1</th>\n",
       "                        <td id=\"T_6db8a652_7778_11eb_b77e_e0d4e838a206row1_col0\" class=\"data row1 col0\" >0.000000</td>\n",
       "                        <td id=\"T_6db8a652_7778_11eb_b77e_e0d4e838a206row1_col1\" class=\"data row1 col1\" >1.191857</td>\n",
       "                        <td id=\"T_6db8a652_7778_11eb_b77e_e0d4e838a206row1_col2\" class=\"data row1 col2\" >0.266151</td>\n",
       "                        <td id=\"T_6db8a652_7778_11eb_b77e_e0d4e838a206row1_col3\" class=\"data row1 col3\" >0.166480</td>\n",
       "                        <td id=\"T_6db8a652_7778_11eb_b77e_e0d4e838a206row1_col4\" class=\"data row1 col4\" >0.448154</td>\n",
       "                        <td id=\"T_6db8a652_7778_11eb_b77e_e0d4e838a206row1_col5\" class=\"data row1 col5\" >0.060018</td>\n",
       "                        <td id=\"T_6db8a652_7778_11eb_b77e_e0d4e838a206row1_col6\" class=\"data row1 col6\" >-0.082361</td>\n",
       "                        <td id=\"T_6db8a652_7778_11eb_b77e_e0d4e838a206row1_col7\" class=\"data row1 col7\" >-0.078803</td>\n",
       "                        <td id=\"T_6db8a652_7778_11eb_b77e_e0d4e838a206row1_col8\" class=\"data row1 col8\" >0.085102</td>\n",
       "                        <td id=\"T_6db8a652_7778_11eb_b77e_e0d4e838a206row1_col9\" class=\"data row1 col9\" >-0.255425</td>\n",
       "                        <td id=\"T_6db8a652_7778_11eb_b77e_e0d4e838a206row1_col10\" class=\"data row1 col10\" >-0.166974</td>\n",
       "                        <td id=\"T_6db8a652_7778_11eb_b77e_e0d4e838a206row1_col11\" class=\"data row1 col11\" >1.612727</td>\n",
       "                        <td id=\"T_6db8a652_7778_11eb_b77e_e0d4e838a206row1_col12\" class=\"data row1 col12\" >1.065235</td>\n",
       "                        <td id=\"T_6db8a652_7778_11eb_b77e_e0d4e838a206row1_col13\" class=\"data row1 col13\" >0.489095</td>\n",
       "                        <td id=\"T_6db8a652_7778_11eb_b77e_e0d4e838a206row1_col14\" class=\"data row1 col14\" >-0.143772</td>\n",
       "                        <td id=\"T_6db8a652_7778_11eb_b77e_e0d4e838a206row1_col15\" class=\"data row1 col15\" >0.635558</td>\n",
       "                        <td id=\"T_6db8a652_7778_11eb_b77e_e0d4e838a206row1_col16\" class=\"data row1 col16\" >0.463917</td>\n",
       "                        <td id=\"T_6db8a652_7778_11eb_b77e_e0d4e838a206row1_col17\" class=\"data row1 col17\" >-0.114805</td>\n",
       "                        <td id=\"T_6db8a652_7778_11eb_b77e_e0d4e838a206row1_col18\" class=\"data row1 col18\" >-0.183361</td>\n",
       "                        <td id=\"T_6db8a652_7778_11eb_b77e_e0d4e838a206row1_col19\" class=\"data row1 col19\" >-0.145783</td>\n",
       "                        <td id=\"T_6db8a652_7778_11eb_b77e_e0d4e838a206row1_col20\" class=\"data row1 col20\" >-0.069083</td>\n",
       "                        <td id=\"T_6db8a652_7778_11eb_b77e_e0d4e838a206row1_col21\" class=\"data row1 col21\" >-0.225775</td>\n",
       "                        <td id=\"T_6db8a652_7778_11eb_b77e_e0d4e838a206row1_col22\" class=\"data row1 col22\" >-0.638672</td>\n",
       "                        <td id=\"T_6db8a652_7778_11eb_b77e_e0d4e838a206row1_col23\" class=\"data row1 col23\" >0.101288</td>\n",
       "                        <td id=\"T_6db8a652_7778_11eb_b77e_e0d4e838a206row1_col24\" class=\"data row1 col24\" >-0.339846</td>\n",
       "                        <td id=\"T_6db8a652_7778_11eb_b77e_e0d4e838a206row1_col25\" class=\"data row1 col25\" >0.167170</td>\n",
       "                        <td id=\"T_6db8a652_7778_11eb_b77e_e0d4e838a206row1_col26\" class=\"data row1 col26\" >0.125895</td>\n",
       "                        <td id=\"T_6db8a652_7778_11eb_b77e_e0d4e838a206row1_col27\" class=\"data row1 col27\" >-0.008983</td>\n",
       "                        <td id=\"T_6db8a652_7778_11eb_b77e_e0d4e838a206row1_col28\" class=\"data row1 col28\" >0.014724</td>\n",
       "                        <td id=\"T_6db8a652_7778_11eb_b77e_e0d4e838a206row1_col29\" class=\"data row1 col29\" >2.690000</td>\n",
       "                        <td id=\"T_6db8a652_7778_11eb_b77e_e0d4e838a206row1_col30\" class=\"data row1 col30\" >0</td>\n",
       "            </tr>\n",
       "            <tr>\n",
       "                        <th id=\"T_6db8a652_7778_11eb_b77e_e0d4e838a206level0_row2\" class=\"row_heading level0 row2\" >2</th>\n",
       "                        <td id=\"T_6db8a652_7778_11eb_b77e_e0d4e838a206row2_col0\" class=\"data row2 col0\" >1.000000</td>\n",
       "                        <td id=\"T_6db8a652_7778_11eb_b77e_e0d4e838a206row2_col1\" class=\"data row2 col1\" >-1.358354</td>\n",
       "                        <td id=\"T_6db8a652_7778_11eb_b77e_e0d4e838a206row2_col2\" class=\"data row2 col2\" >-1.340163</td>\n",
       "                        <td id=\"T_6db8a652_7778_11eb_b77e_e0d4e838a206row2_col3\" class=\"data row2 col3\" >1.773209</td>\n",
       "                        <td id=\"T_6db8a652_7778_11eb_b77e_e0d4e838a206row2_col4\" class=\"data row2 col4\" >0.379780</td>\n",
       "                        <td id=\"T_6db8a652_7778_11eb_b77e_e0d4e838a206row2_col5\" class=\"data row2 col5\" >-0.503198</td>\n",
       "                        <td id=\"T_6db8a652_7778_11eb_b77e_e0d4e838a206row2_col6\" class=\"data row2 col6\" >1.800499</td>\n",
       "                        <td id=\"T_6db8a652_7778_11eb_b77e_e0d4e838a206row2_col7\" class=\"data row2 col7\" >0.791461</td>\n",
       "                        <td id=\"T_6db8a652_7778_11eb_b77e_e0d4e838a206row2_col8\" class=\"data row2 col8\" >0.247676</td>\n",
       "                        <td id=\"T_6db8a652_7778_11eb_b77e_e0d4e838a206row2_col9\" class=\"data row2 col9\" >-1.514654</td>\n",
       "                        <td id=\"T_6db8a652_7778_11eb_b77e_e0d4e838a206row2_col10\" class=\"data row2 col10\" >0.207643</td>\n",
       "                        <td id=\"T_6db8a652_7778_11eb_b77e_e0d4e838a206row2_col11\" class=\"data row2 col11\" >0.624501</td>\n",
       "                        <td id=\"T_6db8a652_7778_11eb_b77e_e0d4e838a206row2_col12\" class=\"data row2 col12\" >0.066084</td>\n",
       "                        <td id=\"T_6db8a652_7778_11eb_b77e_e0d4e838a206row2_col13\" class=\"data row2 col13\" >0.717293</td>\n",
       "                        <td id=\"T_6db8a652_7778_11eb_b77e_e0d4e838a206row2_col14\" class=\"data row2 col14\" >-0.165946</td>\n",
       "                        <td id=\"T_6db8a652_7778_11eb_b77e_e0d4e838a206row2_col15\" class=\"data row2 col15\" >2.345865</td>\n",
       "                        <td id=\"T_6db8a652_7778_11eb_b77e_e0d4e838a206row2_col16\" class=\"data row2 col16\" >-2.890083</td>\n",
       "                        <td id=\"T_6db8a652_7778_11eb_b77e_e0d4e838a206row2_col17\" class=\"data row2 col17\" >1.109969</td>\n",
       "                        <td id=\"T_6db8a652_7778_11eb_b77e_e0d4e838a206row2_col18\" class=\"data row2 col18\" >-0.121359</td>\n",
       "                        <td id=\"T_6db8a652_7778_11eb_b77e_e0d4e838a206row2_col19\" class=\"data row2 col19\" >-2.261857</td>\n",
       "                        <td id=\"T_6db8a652_7778_11eb_b77e_e0d4e838a206row2_col20\" class=\"data row2 col20\" >0.524980</td>\n",
       "                        <td id=\"T_6db8a652_7778_11eb_b77e_e0d4e838a206row2_col21\" class=\"data row2 col21\" >0.247998</td>\n",
       "                        <td id=\"T_6db8a652_7778_11eb_b77e_e0d4e838a206row2_col22\" class=\"data row2 col22\" >0.771679</td>\n",
       "                        <td id=\"T_6db8a652_7778_11eb_b77e_e0d4e838a206row2_col23\" class=\"data row2 col23\" >0.909412</td>\n",
       "                        <td id=\"T_6db8a652_7778_11eb_b77e_e0d4e838a206row2_col24\" class=\"data row2 col24\" >-0.689281</td>\n",
       "                        <td id=\"T_6db8a652_7778_11eb_b77e_e0d4e838a206row2_col25\" class=\"data row2 col25\" >-0.327642</td>\n",
       "                        <td id=\"T_6db8a652_7778_11eb_b77e_e0d4e838a206row2_col26\" class=\"data row2 col26\" >-0.139097</td>\n",
       "                        <td id=\"T_6db8a652_7778_11eb_b77e_e0d4e838a206row2_col27\" class=\"data row2 col27\" >-0.055353</td>\n",
       "                        <td id=\"T_6db8a652_7778_11eb_b77e_e0d4e838a206row2_col28\" class=\"data row2 col28\" >-0.059752</td>\n",
       "                        <td id=\"T_6db8a652_7778_11eb_b77e_e0d4e838a206row2_col29\" class=\"data row2 col29\" >378.660000</td>\n",
       "                        <td id=\"T_6db8a652_7778_11eb_b77e_e0d4e838a206row2_col30\" class=\"data row2 col30\" >0</td>\n",
       "            </tr>\n",
       "            <tr>\n",
       "                        <th id=\"T_6db8a652_7778_11eb_b77e_e0d4e838a206level0_row3\" class=\"row_heading level0 row3\" >3</th>\n",
       "                        <td id=\"T_6db8a652_7778_11eb_b77e_e0d4e838a206row3_col0\" class=\"data row3 col0\" >1.000000</td>\n",
       "                        <td id=\"T_6db8a652_7778_11eb_b77e_e0d4e838a206row3_col1\" class=\"data row3 col1\" >-0.966272</td>\n",
       "                        <td id=\"T_6db8a652_7778_11eb_b77e_e0d4e838a206row3_col2\" class=\"data row3 col2\" >-0.185226</td>\n",
       "                        <td id=\"T_6db8a652_7778_11eb_b77e_e0d4e838a206row3_col3\" class=\"data row3 col3\" >1.792993</td>\n",
       "                        <td id=\"T_6db8a652_7778_11eb_b77e_e0d4e838a206row3_col4\" class=\"data row3 col4\" >-0.863291</td>\n",
       "                        <td id=\"T_6db8a652_7778_11eb_b77e_e0d4e838a206row3_col5\" class=\"data row3 col5\" >-0.010309</td>\n",
       "                        <td id=\"T_6db8a652_7778_11eb_b77e_e0d4e838a206row3_col6\" class=\"data row3 col6\" >1.247203</td>\n",
       "                        <td id=\"T_6db8a652_7778_11eb_b77e_e0d4e838a206row3_col7\" class=\"data row3 col7\" >0.237609</td>\n",
       "                        <td id=\"T_6db8a652_7778_11eb_b77e_e0d4e838a206row3_col8\" class=\"data row3 col8\" >0.377436</td>\n",
       "                        <td id=\"T_6db8a652_7778_11eb_b77e_e0d4e838a206row3_col9\" class=\"data row3 col9\" >-1.387024</td>\n",
       "                        <td id=\"T_6db8a652_7778_11eb_b77e_e0d4e838a206row3_col10\" class=\"data row3 col10\" >-0.054952</td>\n",
       "                        <td id=\"T_6db8a652_7778_11eb_b77e_e0d4e838a206row3_col11\" class=\"data row3 col11\" >-0.226487</td>\n",
       "                        <td id=\"T_6db8a652_7778_11eb_b77e_e0d4e838a206row3_col12\" class=\"data row3 col12\" >0.178228</td>\n",
       "                        <td id=\"T_6db8a652_7778_11eb_b77e_e0d4e838a206row3_col13\" class=\"data row3 col13\" >0.507757</td>\n",
       "                        <td id=\"T_6db8a652_7778_11eb_b77e_e0d4e838a206row3_col14\" class=\"data row3 col14\" >-0.287924</td>\n",
       "                        <td id=\"T_6db8a652_7778_11eb_b77e_e0d4e838a206row3_col15\" class=\"data row3 col15\" >-0.631418</td>\n",
       "                        <td id=\"T_6db8a652_7778_11eb_b77e_e0d4e838a206row3_col16\" class=\"data row3 col16\" >-1.059647</td>\n",
       "                        <td id=\"T_6db8a652_7778_11eb_b77e_e0d4e838a206row3_col17\" class=\"data row3 col17\" >-0.684093</td>\n",
       "                        <td id=\"T_6db8a652_7778_11eb_b77e_e0d4e838a206row3_col18\" class=\"data row3 col18\" >1.965775</td>\n",
       "                        <td id=\"T_6db8a652_7778_11eb_b77e_e0d4e838a206row3_col19\" class=\"data row3 col19\" >-1.232622</td>\n",
       "                        <td id=\"T_6db8a652_7778_11eb_b77e_e0d4e838a206row3_col20\" class=\"data row3 col20\" >-0.208038</td>\n",
       "                        <td id=\"T_6db8a652_7778_11eb_b77e_e0d4e838a206row3_col21\" class=\"data row3 col21\" >-0.108300</td>\n",
       "                        <td id=\"T_6db8a652_7778_11eb_b77e_e0d4e838a206row3_col22\" class=\"data row3 col22\" >0.005274</td>\n",
       "                        <td id=\"T_6db8a652_7778_11eb_b77e_e0d4e838a206row3_col23\" class=\"data row3 col23\" >-0.190321</td>\n",
       "                        <td id=\"T_6db8a652_7778_11eb_b77e_e0d4e838a206row3_col24\" class=\"data row3 col24\" >-1.175575</td>\n",
       "                        <td id=\"T_6db8a652_7778_11eb_b77e_e0d4e838a206row3_col25\" class=\"data row3 col25\" >0.647376</td>\n",
       "                        <td id=\"T_6db8a652_7778_11eb_b77e_e0d4e838a206row3_col26\" class=\"data row3 col26\" >-0.221929</td>\n",
       "                        <td id=\"T_6db8a652_7778_11eb_b77e_e0d4e838a206row3_col27\" class=\"data row3 col27\" >0.062723</td>\n",
       "                        <td id=\"T_6db8a652_7778_11eb_b77e_e0d4e838a206row3_col28\" class=\"data row3 col28\" >0.061458</td>\n",
       "                        <td id=\"T_6db8a652_7778_11eb_b77e_e0d4e838a206row3_col29\" class=\"data row3 col29\" >123.500000</td>\n",
       "                        <td id=\"T_6db8a652_7778_11eb_b77e_e0d4e838a206row3_col30\" class=\"data row3 col30\" >0</td>\n",
       "            </tr>\n",
       "            <tr>\n",
       "                        <th id=\"T_6db8a652_7778_11eb_b77e_e0d4e838a206level0_row4\" class=\"row_heading level0 row4\" >4</th>\n",
       "                        <td id=\"T_6db8a652_7778_11eb_b77e_e0d4e838a206row4_col0\" class=\"data row4 col0\" >2.000000</td>\n",
       "                        <td id=\"T_6db8a652_7778_11eb_b77e_e0d4e838a206row4_col1\" class=\"data row4 col1\" >-1.158233</td>\n",
       "                        <td id=\"T_6db8a652_7778_11eb_b77e_e0d4e838a206row4_col2\" class=\"data row4 col2\" >0.877737</td>\n",
       "                        <td id=\"T_6db8a652_7778_11eb_b77e_e0d4e838a206row4_col3\" class=\"data row4 col3\" >1.548718</td>\n",
       "                        <td id=\"T_6db8a652_7778_11eb_b77e_e0d4e838a206row4_col4\" class=\"data row4 col4\" >0.403034</td>\n",
       "                        <td id=\"T_6db8a652_7778_11eb_b77e_e0d4e838a206row4_col5\" class=\"data row4 col5\" >-0.407193</td>\n",
       "                        <td id=\"T_6db8a652_7778_11eb_b77e_e0d4e838a206row4_col6\" class=\"data row4 col6\" >0.095921</td>\n",
       "                        <td id=\"T_6db8a652_7778_11eb_b77e_e0d4e838a206row4_col7\" class=\"data row4 col7\" >0.592941</td>\n",
       "                        <td id=\"T_6db8a652_7778_11eb_b77e_e0d4e838a206row4_col8\" class=\"data row4 col8\" >-0.270533</td>\n",
       "                        <td id=\"T_6db8a652_7778_11eb_b77e_e0d4e838a206row4_col9\" class=\"data row4 col9\" >0.817739</td>\n",
       "                        <td id=\"T_6db8a652_7778_11eb_b77e_e0d4e838a206row4_col10\" class=\"data row4 col10\" >0.753074</td>\n",
       "                        <td id=\"T_6db8a652_7778_11eb_b77e_e0d4e838a206row4_col11\" class=\"data row4 col11\" >-0.822843</td>\n",
       "                        <td id=\"T_6db8a652_7778_11eb_b77e_e0d4e838a206row4_col12\" class=\"data row4 col12\" >0.538196</td>\n",
       "                        <td id=\"T_6db8a652_7778_11eb_b77e_e0d4e838a206row4_col13\" class=\"data row4 col13\" >1.345852</td>\n",
       "                        <td id=\"T_6db8a652_7778_11eb_b77e_e0d4e838a206row4_col14\" class=\"data row4 col14\" >-1.119670</td>\n",
       "                        <td id=\"T_6db8a652_7778_11eb_b77e_e0d4e838a206row4_col15\" class=\"data row4 col15\" >0.175121</td>\n",
       "                        <td id=\"T_6db8a652_7778_11eb_b77e_e0d4e838a206row4_col16\" class=\"data row4 col16\" >-0.451449</td>\n",
       "                        <td id=\"T_6db8a652_7778_11eb_b77e_e0d4e838a206row4_col17\" class=\"data row4 col17\" >-0.237033</td>\n",
       "                        <td id=\"T_6db8a652_7778_11eb_b77e_e0d4e838a206row4_col18\" class=\"data row4 col18\" >-0.038195</td>\n",
       "                        <td id=\"T_6db8a652_7778_11eb_b77e_e0d4e838a206row4_col19\" class=\"data row4 col19\" >0.803487</td>\n",
       "                        <td id=\"T_6db8a652_7778_11eb_b77e_e0d4e838a206row4_col20\" class=\"data row4 col20\" >0.408542</td>\n",
       "                        <td id=\"T_6db8a652_7778_11eb_b77e_e0d4e838a206row4_col21\" class=\"data row4 col21\" >-0.009431</td>\n",
       "                        <td id=\"T_6db8a652_7778_11eb_b77e_e0d4e838a206row4_col22\" class=\"data row4 col22\" >0.798278</td>\n",
       "                        <td id=\"T_6db8a652_7778_11eb_b77e_e0d4e838a206row4_col23\" class=\"data row4 col23\" >-0.137458</td>\n",
       "                        <td id=\"T_6db8a652_7778_11eb_b77e_e0d4e838a206row4_col24\" class=\"data row4 col24\" >0.141267</td>\n",
       "                        <td id=\"T_6db8a652_7778_11eb_b77e_e0d4e838a206row4_col25\" class=\"data row4 col25\" >-0.206010</td>\n",
       "                        <td id=\"T_6db8a652_7778_11eb_b77e_e0d4e838a206row4_col26\" class=\"data row4 col26\" >0.502292</td>\n",
       "                        <td id=\"T_6db8a652_7778_11eb_b77e_e0d4e838a206row4_col27\" class=\"data row4 col27\" >0.219422</td>\n",
       "                        <td id=\"T_6db8a652_7778_11eb_b77e_e0d4e838a206row4_col28\" class=\"data row4 col28\" >0.215153</td>\n",
       "                        <td id=\"T_6db8a652_7778_11eb_b77e_e0d4e838a206row4_col29\" class=\"data row4 col29\" >69.990000</td>\n",
       "                        <td id=\"T_6db8a652_7778_11eb_b77e_e0d4e838a206row4_col30\" class=\"data row4 col30\" >0</td>\n",
       "            </tr>\n",
       "    </tbody></table>"
      ],
      "text/plain": [
       "<pandas.io.formats.style.Styler at 0x16d268d2370>"
      ]
     },
     "execution_count": 5,
     "metadata": {},
     "output_type": "execute_result"
    }
   ],
   "source": [
    "data_df.head(5).style.background_gradient(cmap ='Pastel1').set_properties(**{'font-size': '9px'}) "
   ]
  },
  {
   "cell_type": "code",
   "execution_count": 6,
   "metadata": {},
   "outputs": [
    {
     "data": {
      "application/vnd.jupyter.widget-view+json": {
       "model_id": "60519856fbce4b309afad9ad61ee6da8",
       "version_major": 2,
       "version_minor": 0
      },
      "text/plain": [
       "interactive(children=(Dropdown(description='Feature1', options=('Time', 'V1', 'V2', 'V3', 'V4', 'V5', 'V6', 'V…"
      ]
     },
     "metadata": {},
     "output_type": "display_data"
    }
   ],
   "source": [
    "@interact\n",
    "\n",
    "def create_scatter(Feature1=data_df.columns, Feature2=data_df.columns):\n",
    "    with plt.style.context(\"ggplot\"):\n",
    "        fig = plt.figure(figsize=(25,7))\n",
    "\n",
    "        plt.scatter(x = data_df[Feature1],\n",
    "                    y = data_df[Feature2],\n",
    "                    c=data_df[\"Class\"],\n",
    "                    s=20\n",
    "                   )\n",
    "\n",
    "        plt.xlabel(Feature1.capitalize())\n",
    "        plt.ylabel(Feature2.capitalize())\n",
    "\n",
    "        plt.title(\"%s vs %s\"%(Feature1.capitalize(), Feature2.capitalize()))\n",
    "        \n",
    "#widgets.interact(create_scatter, Feature1=data_df.columns, Feature2=data_df.columns);"
   ]
  },
  {
   "cell_type": "markdown",
   "metadata": {
    "_uuid": "aa67814319f2b87367a7a675d956f1aa8f806363"
   },
   "source": [
    "<center> There is no missing data in the entire dataset. But, the data was imbalanced. Let's check data unbalance with respect with target value, i.e. Class.</center>"
   ]
  },
  {
   "cell_type": "code",
   "execution_count": 7,
   "metadata": {
    "_uuid": "c07847fe84817c98455db7ad7e49c5d991ac58a9"
   },
   "outputs": [
    {
     "data": {
      "application/vnd.plotly.v1+json": {
       "config": {
        "linkText": "Export to plot.ly",
        "plotlyServerURL": "https://plot.ly",
        "showLink": false
       },
       "data": [
        {
         "name": "Credit Card Fraud Class - data unbalance (Not fraud = 0, Fraud = 1)",
         "text": [
          284315,
          492
         ],
         "type": "bar",
         "x": [
          0,
          1
         ],
         "y": [
          284315,
          492
         ]
        }
       ],
       "layout": {
        "hovermode": "closest",
        "template": {
         "data": {
          "bar": [
           {
            "error_x": {
             "color": "#2a3f5f"
            },
            "error_y": {
             "color": "#2a3f5f"
            },
            "marker": {
             "line": {
              "color": "#E5ECF6",
              "width": 0.5
             }
            },
            "type": "bar"
           }
          ],
          "barpolar": [
           {
            "marker": {
             "line": {
              "color": "#E5ECF6",
              "width": 0.5
             }
            },
            "type": "barpolar"
           }
          ],
          "carpet": [
           {
            "aaxis": {
             "endlinecolor": "#2a3f5f",
             "gridcolor": "white",
             "linecolor": "white",
             "minorgridcolor": "white",
             "startlinecolor": "#2a3f5f"
            },
            "baxis": {
             "endlinecolor": "#2a3f5f",
             "gridcolor": "white",
             "linecolor": "white",
             "minorgridcolor": "white",
             "startlinecolor": "#2a3f5f"
            },
            "type": "carpet"
           }
          ],
          "choropleth": [
           {
            "colorbar": {
             "outlinewidth": 0,
             "ticks": ""
            },
            "type": "choropleth"
           }
          ],
          "contour": [
           {
            "colorbar": {
             "outlinewidth": 0,
             "ticks": ""
            },
            "colorscale": [
             [
              0,
              "#0d0887"
             ],
             [
              0.1111111111111111,
              "#46039f"
             ],
             [
              0.2222222222222222,
              "#7201a8"
             ],
             [
              0.3333333333333333,
              "#9c179e"
             ],
             [
              0.4444444444444444,
              "#bd3786"
             ],
             [
              0.5555555555555556,
              "#d8576b"
             ],
             [
              0.6666666666666666,
              "#ed7953"
             ],
             [
              0.7777777777777778,
              "#fb9f3a"
             ],
             [
              0.8888888888888888,
              "#fdca26"
             ],
             [
              1,
              "#f0f921"
             ]
            ],
            "type": "contour"
           }
          ],
          "contourcarpet": [
           {
            "colorbar": {
             "outlinewidth": 0,
             "ticks": ""
            },
            "type": "contourcarpet"
           }
          ],
          "heatmap": [
           {
            "colorbar": {
             "outlinewidth": 0,
             "ticks": ""
            },
            "colorscale": [
             [
              0,
              "#0d0887"
             ],
             [
              0.1111111111111111,
              "#46039f"
             ],
             [
              0.2222222222222222,
              "#7201a8"
             ],
             [
              0.3333333333333333,
              "#9c179e"
             ],
             [
              0.4444444444444444,
              "#bd3786"
             ],
             [
              0.5555555555555556,
              "#d8576b"
             ],
             [
              0.6666666666666666,
              "#ed7953"
             ],
             [
              0.7777777777777778,
              "#fb9f3a"
             ],
             [
              0.8888888888888888,
              "#fdca26"
             ],
             [
              1,
              "#f0f921"
             ]
            ],
            "type": "heatmap"
           }
          ],
          "heatmapgl": [
           {
            "colorbar": {
             "outlinewidth": 0,
             "ticks": ""
            },
            "colorscale": [
             [
              0,
              "#0d0887"
             ],
             [
              0.1111111111111111,
              "#46039f"
             ],
             [
              0.2222222222222222,
              "#7201a8"
             ],
             [
              0.3333333333333333,
              "#9c179e"
             ],
             [
              0.4444444444444444,
              "#bd3786"
             ],
             [
              0.5555555555555556,
              "#d8576b"
             ],
             [
              0.6666666666666666,
              "#ed7953"
             ],
             [
              0.7777777777777778,
              "#fb9f3a"
             ],
             [
              0.8888888888888888,
              "#fdca26"
             ],
             [
              1,
              "#f0f921"
             ]
            ],
            "type": "heatmapgl"
           }
          ],
          "histogram": [
           {
            "marker": {
             "colorbar": {
              "outlinewidth": 0,
              "ticks": ""
             }
            },
            "type": "histogram"
           }
          ],
          "histogram2d": [
           {
            "colorbar": {
             "outlinewidth": 0,
             "ticks": ""
            },
            "colorscale": [
             [
              0,
              "#0d0887"
             ],
             [
              0.1111111111111111,
              "#46039f"
             ],
             [
              0.2222222222222222,
              "#7201a8"
             ],
             [
              0.3333333333333333,
              "#9c179e"
             ],
             [
              0.4444444444444444,
              "#bd3786"
             ],
             [
              0.5555555555555556,
              "#d8576b"
             ],
             [
              0.6666666666666666,
              "#ed7953"
             ],
             [
              0.7777777777777778,
              "#fb9f3a"
             ],
             [
              0.8888888888888888,
              "#fdca26"
             ],
             [
              1,
              "#f0f921"
             ]
            ],
            "type": "histogram2d"
           }
          ],
          "histogram2dcontour": [
           {
            "colorbar": {
             "outlinewidth": 0,
             "ticks": ""
            },
            "colorscale": [
             [
              0,
              "#0d0887"
             ],
             [
              0.1111111111111111,
              "#46039f"
             ],
             [
              0.2222222222222222,
              "#7201a8"
             ],
             [
              0.3333333333333333,
              "#9c179e"
             ],
             [
              0.4444444444444444,
              "#bd3786"
             ],
             [
              0.5555555555555556,
              "#d8576b"
             ],
             [
              0.6666666666666666,
              "#ed7953"
             ],
             [
              0.7777777777777778,
              "#fb9f3a"
             ],
             [
              0.8888888888888888,
              "#fdca26"
             ],
             [
              1,
              "#f0f921"
             ]
            ],
            "type": "histogram2dcontour"
           }
          ],
          "mesh3d": [
           {
            "colorbar": {
             "outlinewidth": 0,
             "ticks": ""
            },
            "type": "mesh3d"
           }
          ],
          "parcoords": [
           {
            "line": {
             "colorbar": {
              "outlinewidth": 0,
              "ticks": ""
             }
            },
            "type": "parcoords"
           }
          ],
          "pie": [
           {
            "automargin": true,
            "type": "pie"
           }
          ],
          "scatter": [
           {
            "marker": {
             "colorbar": {
              "outlinewidth": 0,
              "ticks": ""
             }
            },
            "type": "scatter"
           }
          ],
          "scatter3d": [
           {
            "line": {
             "colorbar": {
              "outlinewidth": 0,
              "ticks": ""
             }
            },
            "marker": {
             "colorbar": {
              "outlinewidth": 0,
              "ticks": ""
             }
            },
            "type": "scatter3d"
           }
          ],
          "scattercarpet": [
           {
            "marker": {
             "colorbar": {
              "outlinewidth": 0,
              "ticks": ""
             }
            },
            "type": "scattercarpet"
           }
          ],
          "scattergeo": [
           {
            "marker": {
             "colorbar": {
              "outlinewidth": 0,
              "ticks": ""
             }
            },
            "type": "scattergeo"
           }
          ],
          "scattergl": [
           {
            "marker": {
             "colorbar": {
              "outlinewidth": 0,
              "ticks": ""
             }
            },
            "type": "scattergl"
           }
          ],
          "scattermapbox": [
           {
            "marker": {
             "colorbar": {
              "outlinewidth": 0,
              "ticks": ""
             }
            },
            "type": "scattermapbox"
           }
          ],
          "scatterpolar": [
           {
            "marker": {
             "colorbar": {
              "outlinewidth": 0,
              "ticks": ""
             }
            },
            "type": "scatterpolar"
           }
          ],
          "scatterpolargl": [
           {
            "marker": {
             "colorbar": {
              "outlinewidth": 0,
              "ticks": ""
             }
            },
            "type": "scatterpolargl"
           }
          ],
          "scatterternary": [
           {
            "marker": {
             "colorbar": {
              "outlinewidth": 0,
              "ticks": ""
             }
            },
            "type": "scatterternary"
           }
          ],
          "surface": [
           {
            "colorbar": {
             "outlinewidth": 0,
             "ticks": ""
            },
            "colorscale": [
             [
              0,
              "#0d0887"
             ],
             [
              0.1111111111111111,
              "#46039f"
             ],
             [
              0.2222222222222222,
              "#7201a8"
             ],
             [
              0.3333333333333333,
              "#9c179e"
             ],
             [
              0.4444444444444444,
              "#bd3786"
             ],
             [
              0.5555555555555556,
              "#d8576b"
             ],
             [
              0.6666666666666666,
              "#ed7953"
             ],
             [
              0.7777777777777778,
              "#fb9f3a"
             ],
             [
              0.8888888888888888,
              "#fdca26"
             ],
             [
              1,
              "#f0f921"
             ]
            ],
            "type": "surface"
           }
          ],
          "table": [
           {
            "cells": {
             "fill": {
              "color": "#EBF0F8"
             },
             "line": {
              "color": "white"
             }
            },
            "header": {
             "fill": {
              "color": "#C8D4E3"
             },
             "line": {
              "color": "white"
             }
            },
            "type": "table"
           }
          ]
         },
         "layout": {
          "annotationdefaults": {
           "arrowcolor": "#2a3f5f",
           "arrowhead": 0,
           "arrowwidth": 1
          },
          "coloraxis": {
           "colorbar": {
            "outlinewidth": 0,
            "ticks": ""
           }
          },
          "colorscale": {
           "diverging": [
            [
             0,
             "#8e0152"
            ],
            [
             0.1,
             "#c51b7d"
            ],
            [
             0.2,
             "#de77ae"
            ],
            [
             0.3,
             "#f1b6da"
            ],
            [
             0.4,
             "#fde0ef"
            ],
            [
             0.5,
             "#f7f7f7"
            ],
            [
             0.6,
             "#e6f5d0"
            ],
            [
             0.7,
             "#b8e186"
            ],
            [
             0.8,
             "#7fbc41"
            ],
            [
             0.9,
             "#4d9221"
            ],
            [
             1,
             "#276419"
            ]
           ],
           "sequential": [
            [
             0,
             "#0d0887"
            ],
            [
             0.1111111111111111,
             "#46039f"
            ],
            [
             0.2222222222222222,
             "#7201a8"
            ],
            [
             0.3333333333333333,
             "#9c179e"
            ],
            [
             0.4444444444444444,
             "#bd3786"
            ],
            [
             0.5555555555555556,
             "#d8576b"
            ],
            [
             0.6666666666666666,
             "#ed7953"
            ],
            [
             0.7777777777777778,
             "#fb9f3a"
            ],
            [
             0.8888888888888888,
             "#fdca26"
            ],
            [
             1,
             "#f0f921"
            ]
           ],
           "sequentialminus": [
            [
             0,
             "#0d0887"
            ],
            [
             0.1111111111111111,
             "#46039f"
            ],
            [
             0.2222222222222222,
             "#7201a8"
            ],
            [
             0.3333333333333333,
             "#9c179e"
            ],
            [
             0.4444444444444444,
             "#bd3786"
            ],
            [
             0.5555555555555556,
             "#d8576b"
            ],
            [
             0.6666666666666666,
             "#ed7953"
            ],
            [
             0.7777777777777778,
             "#fb9f3a"
            ],
            [
             0.8888888888888888,
             "#fdca26"
            ],
            [
             1,
             "#f0f921"
            ]
           ]
          },
          "colorway": [
           "#636efa",
           "#EF553B",
           "#00cc96",
           "#ab63fa",
           "#FFA15A",
           "#19d3f3",
           "#FF6692",
           "#B6E880",
           "#FF97FF",
           "#FECB52"
          ],
          "font": {
           "color": "#2a3f5f"
          },
          "geo": {
           "bgcolor": "white",
           "lakecolor": "white",
           "landcolor": "#E5ECF6",
           "showlakes": true,
           "showland": true,
           "subunitcolor": "white"
          },
          "hoverlabel": {
           "align": "left"
          },
          "hovermode": "closest",
          "mapbox": {
           "style": "light"
          },
          "paper_bgcolor": "white",
          "plot_bgcolor": "#E5ECF6",
          "polar": {
           "angularaxis": {
            "gridcolor": "white",
            "linecolor": "white",
            "ticks": ""
           },
           "bgcolor": "#E5ECF6",
           "radialaxis": {
            "gridcolor": "white",
            "linecolor": "white",
            "ticks": ""
           }
          },
          "scene": {
           "xaxis": {
            "backgroundcolor": "#E5ECF6",
            "gridcolor": "white",
            "gridwidth": 2,
            "linecolor": "white",
            "showbackground": true,
            "ticks": "",
            "zerolinecolor": "white"
           },
           "yaxis": {
            "backgroundcolor": "#E5ECF6",
            "gridcolor": "white",
            "gridwidth": 2,
            "linecolor": "white",
            "showbackground": true,
            "ticks": "",
            "zerolinecolor": "white"
           },
           "zaxis": {
            "backgroundcolor": "#E5ECF6",
            "gridcolor": "white",
            "gridwidth": 2,
            "linecolor": "white",
            "showbackground": true,
            "ticks": "",
            "zerolinecolor": "white"
           }
          },
          "shapedefaults": {
           "line": {
            "color": "#2a3f5f"
           }
          },
          "ternary": {
           "aaxis": {
            "gridcolor": "white",
            "linecolor": "white",
            "ticks": ""
           },
           "baxis": {
            "gridcolor": "white",
            "linecolor": "white",
            "ticks": ""
           },
           "bgcolor": "#E5ECF6",
           "caxis": {
            "gridcolor": "white",
            "linecolor": "white",
            "ticks": ""
           }
          },
          "title": {
           "x": 0.05
          },
          "xaxis": {
           "automargin": true,
           "gridcolor": "white",
           "linecolor": "white",
           "ticks": "",
           "title": {
            "standoff": 15
           },
           "zerolinecolor": "white",
           "zerolinewidth": 2
          },
          "yaxis": {
           "automargin": true,
           "gridcolor": "white",
           "linecolor": "white",
           "ticks": "",
           "title": {
            "standoff": 15
           },
           "zerolinecolor": "white",
           "zerolinewidth": 2
          }
         }
        },
        "title": {
         "text": "Credit Card Fraud Class - data unbalance (Not fraud = 0, Fraud = 1)"
        },
        "width": 1475,
        "xaxis": {
         "showticklabels": true,
         "title": {
          "text": "Class"
         }
        },
        "yaxis": {
         "title": {
          "text": "Number of transactions"
         }
        }
       }
      },
      "text/html": [
       "<div>\n",
       "        \n",
       "        \n",
       "            <div id=\"28c95938-297b-4e84-a201-d0cfbe4164a4\" class=\"plotly-graph-div\" style=\"height:525px; width:1475px;\"></div>\n",
       "            <script type=\"text/javascript\">\n",
       "                require([\"plotly\"], function(Plotly) {\n",
       "                    window.PLOTLYENV=window.PLOTLYENV || {};\n",
       "                    \n",
       "                if (document.getElementById(\"28c95938-297b-4e84-a201-d0cfbe4164a4\")) {\n",
       "                    Plotly.newPlot(\n",
       "                        '28c95938-297b-4e84-a201-d0cfbe4164a4',\n",
       "                        [{\"name\": \"Credit Card Fraud Class - data unbalance (Not fraud = 0, Fraud = 1)\", \"text\": [284315.0, 492.0], \"type\": \"bar\", \"x\": [0, 1], \"y\": [284315, 492]}],\n",
       "                        {\"hovermode\": \"closest\", \"template\": {\"data\": {\"bar\": [{\"error_x\": {\"color\": \"#2a3f5f\"}, \"error_y\": {\"color\": \"#2a3f5f\"}, \"marker\": {\"line\": {\"color\": \"#E5ECF6\", \"width\": 0.5}}, \"type\": \"bar\"}], \"barpolar\": [{\"marker\": {\"line\": {\"color\": \"#E5ECF6\", \"width\": 0.5}}, \"type\": \"barpolar\"}], \"carpet\": [{\"aaxis\": {\"endlinecolor\": \"#2a3f5f\", \"gridcolor\": \"white\", \"linecolor\": \"white\", \"minorgridcolor\": \"white\", \"startlinecolor\": \"#2a3f5f\"}, \"baxis\": {\"endlinecolor\": \"#2a3f5f\", \"gridcolor\": \"white\", \"linecolor\": \"white\", \"minorgridcolor\": \"white\", \"startlinecolor\": \"#2a3f5f\"}, \"type\": \"carpet\"}], \"choropleth\": [{\"colorbar\": {\"outlinewidth\": 0, \"ticks\": \"\"}, \"type\": \"choropleth\"}], \"contour\": [{\"colorbar\": {\"outlinewidth\": 0, \"ticks\": \"\"}, \"colorscale\": [[0.0, \"#0d0887\"], [0.1111111111111111, \"#46039f\"], [0.2222222222222222, \"#7201a8\"], [0.3333333333333333, \"#9c179e\"], [0.4444444444444444, \"#bd3786\"], [0.5555555555555556, \"#d8576b\"], [0.6666666666666666, \"#ed7953\"], [0.7777777777777778, \"#fb9f3a\"], [0.8888888888888888, \"#fdca26\"], [1.0, \"#f0f921\"]], \"type\": \"contour\"}], \"contourcarpet\": [{\"colorbar\": {\"outlinewidth\": 0, \"ticks\": \"\"}, \"type\": \"contourcarpet\"}], \"heatmap\": [{\"colorbar\": {\"outlinewidth\": 0, \"ticks\": \"\"}, \"colorscale\": [[0.0, \"#0d0887\"], [0.1111111111111111, \"#46039f\"], [0.2222222222222222, \"#7201a8\"], [0.3333333333333333, \"#9c179e\"], [0.4444444444444444, \"#bd3786\"], [0.5555555555555556, \"#d8576b\"], [0.6666666666666666, \"#ed7953\"], [0.7777777777777778, \"#fb9f3a\"], [0.8888888888888888, \"#fdca26\"], [1.0, \"#f0f921\"]], \"type\": \"heatmap\"}], \"heatmapgl\": [{\"colorbar\": {\"outlinewidth\": 0, \"ticks\": \"\"}, \"colorscale\": [[0.0, \"#0d0887\"], [0.1111111111111111, \"#46039f\"], [0.2222222222222222, \"#7201a8\"], [0.3333333333333333, \"#9c179e\"], [0.4444444444444444, \"#bd3786\"], [0.5555555555555556, \"#d8576b\"], [0.6666666666666666, \"#ed7953\"], [0.7777777777777778, \"#fb9f3a\"], [0.8888888888888888, \"#fdca26\"], [1.0, \"#f0f921\"]], \"type\": \"heatmapgl\"}], \"histogram\": [{\"marker\": {\"colorbar\": {\"outlinewidth\": 0, \"ticks\": \"\"}}, \"type\": \"histogram\"}], \"histogram2d\": [{\"colorbar\": {\"outlinewidth\": 0, \"ticks\": \"\"}, \"colorscale\": [[0.0, \"#0d0887\"], [0.1111111111111111, \"#46039f\"], [0.2222222222222222, \"#7201a8\"], [0.3333333333333333, \"#9c179e\"], [0.4444444444444444, \"#bd3786\"], [0.5555555555555556, \"#d8576b\"], [0.6666666666666666, \"#ed7953\"], [0.7777777777777778, \"#fb9f3a\"], [0.8888888888888888, \"#fdca26\"], [1.0, \"#f0f921\"]], \"type\": \"histogram2d\"}], \"histogram2dcontour\": [{\"colorbar\": {\"outlinewidth\": 0, \"ticks\": \"\"}, \"colorscale\": [[0.0, \"#0d0887\"], [0.1111111111111111, \"#46039f\"], [0.2222222222222222, \"#7201a8\"], [0.3333333333333333, \"#9c179e\"], [0.4444444444444444, \"#bd3786\"], [0.5555555555555556, \"#d8576b\"], [0.6666666666666666, \"#ed7953\"], [0.7777777777777778, \"#fb9f3a\"], [0.8888888888888888, \"#fdca26\"], [1.0, \"#f0f921\"]], \"type\": \"histogram2dcontour\"}], \"mesh3d\": [{\"colorbar\": {\"outlinewidth\": 0, \"ticks\": \"\"}, \"type\": \"mesh3d\"}], \"parcoords\": [{\"line\": {\"colorbar\": {\"outlinewidth\": 0, \"ticks\": \"\"}}, \"type\": \"parcoords\"}], \"pie\": [{\"automargin\": true, \"type\": \"pie\"}], \"scatter\": [{\"marker\": {\"colorbar\": {\"outlinewidth\": 0, \"ticks\": \"\"}}, \"type\": \"scatter\"}], \"scatter3d\": [{\"line\": {\"colorbar\": {\"outlinewidth\": 0, \"ticks\": \"\"}}, \"marker\": {\"colorbar\": {\"outlinewidth\": 0, \"ticks\": \"\"}}, \"type\": \"scatter3d\"}], \"scattercarpet\": [{\"marker\": {\"colorbar\": {\"outlinewidth\": 0, \"ticks\": \"\"}}, \"type\": \"scattercarpet\"}], \"scattergeo\": [{\"marker\": {\"colorbar\": {\"outlinewidth\": 0, \"ticks\": \"\"}}, \"type\": \"scattergeo\"}], \"scattergl\": [{\"marker\": {\"colorbar\": {\"outlinewidth\": 0, \"ticks\": \"\"}}, \"type\": \"scattergl\"}], \"scattermapbox\": [{\"marker\": {\"colorbar\": {\"outlinewidth\": 0, \"ticks\": \"\"}}, \"type\": \"scattermapbox\"}], \"scatterpolar\": [{\"marker\": {\"colorbar\": {\"outlinewidth\": 0, \"ticks\": \"\"}}, \"type\": \"scatterpolar\"}], \"scatterpolargl\": [{\"marker\": {\"colorbar\": {\"outlinewidth\": 0, \"ticks\": \"\"}}, \"type\": \"scatterpolargl\"}], \"scatterternary\": [{\"marker\": {\"colorbar\": {\"outlinewidth\": 0, \"ticks\": \"\"}}, \"type\": \"scatterternary\"}], \"surface\": [{\"colorbar\": {\"outlinewidth\": 0, \"ticks\": \"\"}, \"colorscale\": [[0.0, \"#0d0887\"], [0.1111111111111111, \"#46039f\"], [0.2222222222222222, \"#7201a8\"], [0.3333333333333333, \"#9c179e\"], [0.4444444444444444, \"#bd3786\"], [0.5555555555555556, \"#d8576b\"], [0.6666666666666666, \"#ed7953\"], [0.7777777777777778, \"#fb9f3a\"], [0.8888888888888888, \"#fdca26\"], [1.0, \"#f0f921\"]], \"type\": \"surface\"}], \"table\": [{\"cells\": {\"fill\": {\"color\": \"#EBF0F8\"}, \"line\": {\"color\": \"white\"}}, \"header\": {\"fill\": {\"color\": \"#C8D4E3\"}, \"line\": {\"color\": \"white\"}}, \"type\": \"table\"}]}, \"layout\": {\"annotationdefaults\": {\"arrowcolor\": \"#2a3f5f\", \"arrowhead\": 0, \"arrowwidth\": 1}, \"coloraxis\": {\"colorbar\": {\"outlinewidth\": 0, \"ticks\": \"\"}}, \"colorscale\": {\"diverging\": [[0, \"#8e0152\"], [0.1, \"#c51b7d\"], [0.2, \"#de77ae\"], [0.3, \"#f1b6da\"], [0.4, \"#fde0ef\"], [0.5, \"#f7f7f7\"], [0.6, \"#e6f5d0\"], [0.7, \"#b8e186\"], [0.8, \"#7fbc41\"], [0.9, \"#4d9221\"], [1, \"#276419\"]], \"sequential\": [[0.0, \"#0d0887\"], [0.1111111111111111, \"#46039f\"], [0.2222222222222222, \"#7201a8\"], [0.3333333333333333, \"#9c179e\"], [0.4444444444444444, \"#bd3786\"], [0.5555555555555556, \"#d8576b\"], [0.6666666666666666, \"#ed7953\"], [0.7777777777777778, \"#fb9f3a\"], [0.8888888888888888, \"#fdca26\"], [1.0, \"#f0f921\"]], \"sequentialminus\": [[0.0, \"#0d0887\"], [0.1111111111111111, \"#46039f\"], [0.2222222222222222, \"#7201a8\"], [0.3333333333333333, \"#9c179e\"], [0.4444444444444444, \"#bd3786\"], [0.5555555555555556, \"#d8576b\"], [0.6666666666666666, \"#ed7953\"], [0.7777777777777778, \"#fb9f3a\"], [0.8888888888888888, \"#fdca26\"], [1.0, \"#f0f921\"]]}, \"colorway\": [\"#636efa\", \"#EF553B\", \"#00cc96\", \"#ab63fa\", \"#FFA15A\", \"#19d3f3\", \"#FF6692\", \"#B6E880\", \"#FF97FF\", \"#FECB52\"], \"font\": {\"color\": \"#2a3f5f\"}, \"geo\": {\"bgcolor\": \"white\", \"lakecolor\": \"white\", \"landcolor\": \"#E5ECF6\", \"showlakes\": true, \"showland\": true, \"subunitcolor\": \"white\"}, \"hoverlabel\": {\"align\": \"left\"}, \"hovermode\": \"closest\", \"mapbox\": {\"style\": \"light\"}, \"paper_bgcolor\": \"white\", \"plot_bgcolor\": \"#E5ECF6\", \"polar\": {\"angularaxis\": {\"gridcolor\": \"white\", \"linecolor\": \"white\", \"ticks\": \"\"}, \"bgcolor\": \"#E5ECF6\", \"radialaxis\": {\"gridcolor\": \"white\", \"linecolor\": \"white\", \"ticks\": \"\"}}, \"scene\": {\"xaxis\": {\"backgroundcolor\": \"#E5ECF6\", \"gridcolor\": \"white\", \"gridwidth\": 2, \"linecolor\": \"white\", \"showbackground\": true, \"ticks\": \"\", \"zerolinecolor\": \"white\"}, \"yaxis\": {\"backgroundcolor\": \"#E5ECF6\", \"gridcolor\": \"white\", \"gridwidth\": 2, \"linecolor\": \"white\", \"showbackground\": true, \"ticks\": \"\", \"zerolinecolor\": \"white\"}, \"zaxis\": {\"backgroundcolor\": \"#E5ECF6\", \"gridcolor\": \"white\", \"gridwidth\": 2, \"linecolor\": \"white\", \"showbackground\": true, \"ticks\": \"\", \"zerolinecolor\": \"white\"}}, \"shapedefaults\": {\"line\": {\"color\": \"#2a3f5f\"}}, \"ternary\": {\"aaxis\": {\"gridcolor\": \"white\", \"linecolor\": \"white\", \"ticks\": \"\"}, \"baxis\": {\"gridcolor\": \"white\", \"linecolor\": \"white\", \"ticks\": \"\"}, \"bgcolor\": \"#E5ECF6\", \"caxis\": {\"gridcolor\": \"white\", \"linecolor\": \"white\", \"ticks\": \"\"}}, \"title\": {\"x\": 0.05}, \"xaxis\": {\"automargin\": true, \"gridcolor\": \"white\", \"linecolor\": \"white\", \"ticks\": \"\", \"title\": {\"standoff\": 15}, \"zerolinecolor\": \"white\", \"zerolinewidth\": 2}, \"yaxis\": {\"automargin\": true, \"gridcolor\": \"white\", \"linecolor\": \"white\", \"ticks\": \"\", \"title\": {\"standoff\": 15}, \"zerolinecolor\": \"white\", \"zerolinewidth\": 2}}}, \"title\": {\"text\": \"Credit Card Fraud Class - data unbalance (Not fraud = 0, Fraud = 1)\"}, \"width\": 1475, \"xaxis\": {\"showticklabels\": true, \"title\": {\"text\": \"Class\"}}, \"yaxis\": {\"title\": {\"text\": \"Number of transactions\"}}},\n",
       "                        {\"responsive\": true}\n",
       "                    ).then(function(){\n",
       "                            \n",
       "var gd = document.getElementById('28c95938-297b-4e84-a201-d0cfbe4164a4');\n",
       "var x = new MutationObserver(function (mutations, observer) {{\n",
       "        var display = window.getComputedStyle(gd).display;\n",
       "        if (!display || display === 'none') {{\n",
       "            console.log([gd, 'removed!']);\n",
       "            Plotly.purge(gd);\n",
       "            observer.disconnect();\n",
       "        }}\n",
       "}});\n",
       "\n",
       "// Listen for the removal of the full notebook cells\n",
       "var notebookContainer = gd.closest('#notebook-container');\n",
       "if (notebookContainer) {{\n",
       "    x.observe(notebookContainer, {childList: true});\n",
       "}}\n",
       "\n",
       "// Listen for the clearing of the current output cell\n",
       "var outputEl = gd.closest('.output');\n",
       "if (outputEl) {{\n",
       "    x.observe(outputEl, {childList: true});\n",
       "}}\n",
       "\n",
       "                        })\n",
       "                };\n",
       "                });\n",
       "            </script>\n",
       "        </div>"
      ]
     },
     "metadata": {},
     "output_type": "display_data"
    }
   ],
   "source": [
    "temp = data_df[\"Class\"].value_counts()\n",
    "df = pd.DataFrame({'Class': temp.index,'values': temp.values})\n",
    "\n",
    "trace = go.Bar(\n",
    "    x = df['Class'],y = df['values'],\n",
    "    name=\"Credit Card Fraud Class - data unbalance (Not fraud = 0, Fraud = 1)\",\n",
    "    #marker=dict(color=\"Blue\"),\n",
    "    text=df['values']\n",
    ")\n",
    "data = [trace]\n",
    "layout = dict(title = 'Credit Card Fraud Class - data unbalance (Not fraud = 0, Fraud = 1)',\n",
    "          xaxis = dict(title = 'Class', showticklabels=True), \n",
    "          yaxis = dict(title = 'Number of transactions'),\n",
    "          hovermode = 'closest',width=1475\n",
    "         )\n",
    "fig = dict(data=data, layout=layout)\n",
    "iplot(fig, filename='class')"
   ]
  },
  {
   "cell_type": "markdown",
   "metadata": {
    "_uuid": "77eddeb05f44c47ee4a1be98bb22bb3cb0345030"
   },
   "source": [
    "<center> Only 492 (or 0.172%) of transaction are fraudulent. That means the data is highly unbalanced with respect with target variable Class. </center>"
   ]
  },
  {
   "cell_type": "markdown",
   "metadata": {
    "_uuid": "88fc9ad3d2dde75457f3b8c5417e07cbd9564a30"
   },
   "source": [
    "# <a id=\"5\"><center>Data exploration</center></a>"
   ]
  },
  {
   "cell_type": "markdown",
   "metadata": {
    "_uuid": "b3c42863cec8d34e87dc098b85b3c709ec2739c0"
   },
   "source": [
    "<h3><center>Transactions in time</center></h3>"
   ]
  },
  {
   "cell_type": "code",
   "execution_count": null,
   "metadata": {
    "_uuid": "b9521e8cc9f179887c5dc454ed84d0ba20e55946"
   },
   "outputs": [],
   "source": [
    "class_0 = data_df.loc[data_df['Class'] == 0][\"Time\"]\n",
    "class_1 = data_df.loc[data_df['Class'] == 1][\"Time\"]\n",
    "hist_data = [class_0, class_1]\n",
    "group_labels = ['Not Fraud', 'Fraud']\n",
    "\n",
    "fig = ff.create_distplot(hist_data, group_labels, show_hist=False, show_rug=False)\n",
    "fig['layout'].update(title='Credit Card Transactions Time Density Plot', width = 1475, xaxis=dict(title='Time [s]'))\n",
    "iplot(fig, filename='dist_only')"
   ]
  },
  {
   "cell_type": "markdown",
   "metadata": {
    "_uuid": "64cd713602c33ce4491492088279f26adc209674"
   },
   "source": [
    "<center>Fraudulent transactions have a distribution more even than valid transactions - are equaly distributed in time, including the low real transaction times, during night in Europe timezone.</center>"
   ]
  },
  {
   "cell_type": "markdown",
   "metadata": {
    "_uuid": "c4393be5698f192c6839e8d372b453ed247d40d5"
   },
   "source": [
    "<h3><center>Transactions amount</center></h3>"
   ]
  },
  {
   "cell_type": "code",
   "execution_count": null,
   "metadata": {},
   "outputs": [],
   "source": [
    "params = {'legend.fontsize': '20',\n",
    "          'figure.figsize': (15, 5),\n",
    "         'axes.labelsize': '18',\n",
    "         'axes.titlesize':'30',\n",
    "         'xtick.labelsize':'16',\n",
    "         'ytick.labelsize':'16'}\n",
    "plt.rcParams.update(params)\n",
    "\n",
    "plt.rcParams['text.color'] = '#A04000'\n",
    "plt.rcParams['xtick.color'] = '#800000'\n",
    "plt.rcParams['ytick.color'] = '#808000'\n",
    "plt.rcParams['axes.labelcolor'] = '#283747'"
   ]
  },
  {
   "cell_type": "code",
   "execution_count": null,
   "metadata": {
    "_uuid": "639b6fec6066d52f91c6766ef372df39a39c2fe1"
   },
   "outputs": [],
   "source": [
    "fig, (ax1, ax2) = plt.subplots(ncols=2, figsize=(25,6))\n",
    "s = sns.boxplot(ax = ax1, x=\"Class\", y=\"Amount\", hue=\"Class\",data=data_df, palette=\"PRGn\",showfliers=True)\n",
    "s = sns.boxplot(ax = ax2, x=\"Class\", y=\"Amount\", hue=\"Class\",data=data_df, palette=\"PRGn\",showfliers=False)\n",
    "plt.show();"
   ]
  },
  {
   "cell_type": "code",
   "execution_count": null,
   "metadata": {
    "_uuid": "2a797b1b01b66a3171197cbfc1a1a37bf36b0d57"
   },
   "outputs": [],
   "source": [
    "tmp = data_df[['Amount','Class']].copy()\n",
    "class_0 = tmp.loc[tmp['Class'] == 0]['Amount']\n",
    "class_1 = tmp.loc[tmp['Class'] == 1]['Amount']"
   ]
  },
  {
   "cell_type": "markdown",
   "metadata": {
    "_uuid": "a6aedd49dc678f1a022ddc98901b0a53758bc7f6"
   },
   "source": [
    "<center>The real transaction have a larger mean value, larger Q1, smaller Q3 and Q4 and larger outliers; fraudulent transactions have a smaller Q1 and mean, larger Q4 and smaller outliers.</center>\n",
    "\n",
    "<center>Let's plot the fraudulent transactions (amount) against time. The time is shown is seconds from the start of the time period (totaly 48h, over 2 days).<center>"
   ]
  },
  {
   "cell_type": "code",
   "execution_count": null,
   "metadata": {
    "_uuid": "29575f5187154024c911642bd329289199253a90"
   },
   "outputs": [],
   "source": [
    "fraud = data_df.loc[data_df['Class'] == 1]\n",
    "\n",
    "trace = go.Scatter(\n",
    "    x = fraud['Time'],y = fraud['Amount'],\n",
    "    name=\"Amount\",\n",
    "     marker=dict(\n",
    "                color='rgb(238,23,11)',\n",
    "                line=dict(\n",
    "                    color='red',\n",
    "                    width=1),\n",
    "                opacity=0.5,\n",
    "            ),\n",
    "    text= fraud['Amount'],\n",
    "    mode = \"markers\"\n",
    ")\n",
    "data = [trace]\n",
    "layout = dict(title = 'Amount of fraudulent transactions',\n",
    "          xaxis = dict(title = 'Time [s]', showticklabels=True), \n",
    "          yaxis = dict(title = 'Amount'),\n",
    "          hovermode='closest',\n",
    "              width = 1475\n",
    "         )\n",
    "fig = dict(data=data, layout=layout)\n",
    "iplot(fig, filename='fraud-amount')"
   ]
  },
  {
   "cell_type": "markdown",
   "metadata": {
    "_uuid": "1f144ed18c23667fde41f190c060a8bd4990b7be"
   },
   "source": [
    "# <a id=\"5\"><center>Features correlation</center></a>"
   ]
  },
  {
   "cell_type": "code",
   "execution_count": null,
   "metadata": {
    "_uuid": "2a35594b8bf2ec37febec7570d4d3a25872b648b"
   },
   "outputs": [],
   "source": [
    "plt.figure(figsize = (27,7))\n",
    "plt.title('Credit Card Transactions features correlation plot (Pearson)')\n",
    "corr = data_df.corr()\n",
    "sns.heatmap(corr,xticklabels=corr.columns,yticklabels=corr.columns,linewidths=.1,cmap=\"Reds\")\n",
    "plt.show()"
   ]
  },
  {
   "cell_type": "markdown",
   "metadata": {
    "_uuid": "8db97792d1f815582f037455e9ead600f8c9433c"
   },
   "source": [
    "<center>As expected, there is no notable correlation between features **V1**-**V28**. </center>"
   ]
  },
  {
   "cell_type": "markdown",
   "metadata": {
    "_uuid": "5bdb7deecd32fd919f5431e8b5b02b6392ccd5bc"
   },
   "source": [
    "# <a id=\"2\"><center>Features density plot</center></a>"
   ]
  },
  {
   "cell_type": "code",
   "execution_count": null,
   "metadata": {
    "_uuid": "b041d9877768c687ab4d2b314dbef5f4f3738176"
   },
   "outputs": [],
   "source": [
    "var = data_df.columns.values\n",
    "\n",
    "i = 0\n",
    "t0 = data_df.loc[data_df['Class'] == 0]\n",
    "t1 = data_df.loc[data_df['Class'] == 1]\n",
    "\n",
    "sns.set_style('whitegrid')\n",
    "fig, ax = plt.subplots(8,4,figsize=(25,18))\n",
    "\n",
    "for feature in var:\n",
    "    i += 1\n",
    "    plt.subplot(8,4,i)\n",
    "    sns.kdeplot(t0[feature], bw=0.5,label=\"Class = 0\")\n",
    "    sns.kdeplot(t1[feature], bw=0.5,label=\"Class = 1\")\n",
    "    plt.xlabel(feature, fontsize=12)\n",
    "    locs, labels = plt.xticks()\n",
    "    plt.tick_params(axis='both', which='major', labelsize=12)\n",
    "\n",
    "plt.show();"
   ]
  },
  {
   "cell_type": "markdown",
   "metadata": {
    "_uuid": "ae5a78aaff7b694c209af05a0d12cbfd131000b7"
   },
   "source": [
    "For some of the features we can observe a good selectivity in terms of distribution for the two values of **Class**: **V4**, **V11** have clearly separated distributions for **Class** values 0 and 1, **V12**, **V14**, **V18** are partially separated, **V1**, **V2**, **V3**, **V10** have a quite distinct profile, whilst **V25**, **V26**, **V28** have similar profiles for the two values of **Class**. \n",
    "\n",
    "\n",
    "In general, with just few exceptions (**Time** and **Amount**), the features distribution for legitimate transactions (values of **Class = 0**)  is centered around 0, sometime with a long queue at one of the extremities. In the same time, the fraudulent transactions (values of **Class = 1**) have a skewed (asymmetric) distribution."
   ]
  },
  {
   "cell_type": "code",
   "execution_count": null,
   "metadata": {},
   "outputs": [],
   "source": [
    "data_df = data_df[data_df['Class']!='NA']\n",
    "vals = data_df['Class'].value_counts()"
   ]
  },
  {
   "cell_type": "markdown",
   "metadata": {},
   "source": [
    "### <center><font color='orange'>Before Applying Over Sampling for Balancing the Classes</font></center>\n",
    "\n"
   ]
  },
  {
   "cell_type": "code",
   "execution_count": null,
   "metadata": {},
   "outputs": [],
   "source": [
    "# Plotting attrition of employees\n",
    "fig, (ax1, ax2) = plt.subplots(nrows=1, ncols=2, sharey=False, figsize=(26,5))\n",
    "\n",
    "ax1 = data_df['Class'].value_counts().plot.pie(ax = ax1, shadow=True);\n",
    "ax1.set(title = 'Number of Transactions by class')\n",
    "\n",
    "ax2 = data_df['Class'].value_counts().plot(kind=\"barh\" ,ax =ax2)\n",
    "ax2.set(title = 'Number of Transactions by class')\n",
    "plt.show()"
   ]
  },
  {
   "cell_type": "code",
   "execution_count": null,
   "metadata": {},
   "outputs": [],
   "source": [
    "final_df = data_df.copy()"
   ]
  },
  {
   "cell_type": "code",
   "execution_count": null,
   "metadata": {},
   "outputs": [],
   "source": [
    "final_df.drop(['Time'] ,axis=1, inplace=True)"
   ]
  },
  {
   "cell_type": "markdown",
   "metadata": {},
   "source": [
    "### <center><font color='green'>After Applying Over Sampling for Balancing the Classes</font></center>"
   ]
  },
  {
   "cell_type": "code",
   "execution_count": null,
   "metadata": {},
   "outputs": [],
   "source": [
    "\n",
    "#Over-sampling: SMOTE\n",
    "#SMOTE (Synthetic Minority Oversampling TEchnique) consists of synthesizing elements for the minority class, \n",
    "#based on those that already exist. It works randomly picking a point from the minority class and computing \n",
    "#the k-nearest neighbors for this point.The synthetic points are added between the chosen point and its neighbors.\n",
    "#We'll use ratio='minority' to resample the minority class.\n",
    "smote = SMOTE('minority')\n",
    "finalDF = final_df.copy()\n",
    "X = finalDF.drop(['Class'], axis=1)\n",
    "Y = finalDF['Class']\n",
    "X_sm, Y_sm = smote.fit_sample(X, Y)"
   ]
  },
  {
   "cell_type": "code",
   "execution_count": null,
   "metadata": {},
   "outputs": [],
   "source": [
    "unique_elements, counts_elements = np.unique(Y_sm, return_counts=True)"
   ]
  },
  {
   "cell_type": "code",
   "execution_count": null,
   "metadata": {},
   "outputs": [],
   "source": [
    "# Plotting attrition of employees\n",
    "fig, (ax1, ax2) = plt.subplots(nrows=1, ncols=2, sharey=False, figsize=(26,5))\n",
    "\n",
    "ax1 = pd.value_counts(Y_sm).plot(kind = 'pie', ax = ax1, shadow=True);\n",
    "ax1.set(title = 'Number of Transactions by class')\n",
    "\n",
    "ax2 = pd.value_counts(Y_sm).plot(kind=\"barh\" ,ax =ax2)\n",
    "ax2.set(title = 'Number of Transactions by class')\n",
    "plt.show()\n"
   ]
  },
  {
   "cell_type": "markdown",
   "metadata": {},
   "source": [
    "## <center>Ensemble Modelling Results</center>"
   ]
  },
  {
   "cell_type": "markdown",
   "metadata": {},
   "source": [
    "### <center>Comparison of Ensemble Models - Cross Validation</center>"
   ]
  },
  {
   "cell_type": "code",
   "execution_count": null,
   "metadata": {},
   "outputs": [],
   "source": [
    "cv_res = pd.read_csv('imgs/CVscores.csv')\n",
    "plt.style.use('bmh')\n",
    "plt.figure(figsize=(25,5))\n",
    "g = sns.barplot(\"CrossValMeans\",\"Algorithm\",data = cv_res, palette=\"Set3\",orient = \"h\")\n",
    "g.set_xlabel(\"Mean Accuracy Score\")\n",
    "g = g.set_title(\"Cross validation scores\")"
   ]
  },
  {
   "cell_type": "markdown",
   "metadata": {},
   "source": [
    "### <center>Comparison of Ensemble Models - Train Test Split</center>"
   ]
  },
  {
   "cell_type": "code",
   "execution_count": null,
   "metadata": {},
   "outputs": [],
   "source": [
    "import numpy as np\n",
    "scoreDF = pd.read_csv('imgs/traintest_results.csv')\n",
    "models = [\"RandomForest\", \"AdaBoost\", \"ExtraTrees\",\"GradientBoosting\",\"XGboost\"]\n",
    "\n",
    "plt.style.use('fivethirtyeight')\n",
    "def subcategorybar(X, vals, width=0.8):\n",
    "    cols = ['Train Accuracy', 'Test Accuracy', 'Precision', 'Recall','F1 Score']\n",
    "    n = len(vals)\n",
    "    _X = np.arange(len(X))\n",
    "    for i in range(n):\n",
    "        plt.bar(_X - width/2. + i/float(n)*width, vals[i], width=width/float(n), align=\"edge\")   \n",
    "        \n",
    "        \n",
    "    plt.xticks(_X, X)\n",
    "    \n",
    "plt.figure(figsize = (25,5))\n",
    "subcategorybar(models, [scoreDF['Train Accuracy'], scoreDF['Test Accuracy'], scoreDF['Precision'], scoreDF['Recall'], scoreDF['F1 Score']])\n",
    "plt.ylim(0.98, 1.0)\n",
    "cols = ['Train Accuracy', 'Test Accuracy', 'Precision', 'Recall','F1 Score']\n",
    "plt.legend(cols, bbox_to_anchor=(1.01, 1.01),fancybox=False, shadow=False)\n",
    "plt.xlabel('Model')\n",
    "plt.title(\"Comparison of Models\")\n",
    "plt.show()"
   ]
  },
  {
   "cell_type": "markdown",
   "metadata": {},
   "source": [
    "## <center>Ensemble on Traditional Models</center>"
   ]
  },
  {
   "cell_type": "markdown",
   "metadata": {},
   "source": [
    "<center>1. Simple Averaging - Predict the class with the largest sum of votes from models</center>\n",
    "<center>2. Soft Voting - Predict the class with the largest summed probability from models.</center>\n",
    "<center>3. Hard Voting - Predict the class with the largest sum of votes from models</center>"
   ]
  },
  {
   "cell_type": "code",
   "execution_count": null,
   "metadata": {},
   "outputs": [],
   "source": [
    "VotingEnsemblesDF = pd.read_csv('imgs/VotingEnsembles.csv')\n",
    "models = ['Simple Averaging',\n",
    " 'Weighted Averaging (Soft Voting)',\n",
    " 'Weighted Averaging (Hard Voting)']\n",
    "    \n",
    "plt.figure(figsize = (25,5))\n",
    "subcategorybar(models, [VotingEnsemblesDF['Train Accuracy'], VotingEnsemblesDF['Test Accuracy'], VotingEnsemblesDF['Precision'], VotingEnsemblesDF['Recall'], VotingEnsemblesDF['F1 Score']])\n",
    "plt.ylim(0.9, 1.0)\n",
    "cols = ['Train Accuracy', 'Test Accuracy', 'Precision', 'Recall','F1 Score']\n",
    "plt.legend(cols, bbox_to_anchor=(1.01, 1.01), fancybox=False, shadow=False)\n",
    "plt.xlabel('Model')\n",
    "plt.title(\"Comparison of Models\")\n",
    "plt.show()"
   ]
  },
  {
   "cell_type": "markdown",
   "metadata": {},
   "source": [
    "## <center>Stacking Based Ensembles</center>"
   ]
  },
  {
   "cell_type": "code",
   "execution_count": null,
   "metadata": {},
   "outputs": [],
   "source": [
    "import pandas as pd\n",
    "import matplotlib.pyplot as plt\n",
    "%matplotlib inline\n",
    "StackingEnsemblesDF = pd.read_excel('imgs/StackedEnsembles.xlsx')\n",
    "\n",
    "models = ['Logistic Regression Classifier',\n",
    " 'Linear Discriminant Analysis Classifier',\n",
    " 'Stochastic Gradient Descent Classifier',\n",
    " 'Decision Tree Classifier',\n",
    " 'Random Forest Classifier',\n",
    " 'Bagging Classifier',\n",
    " 'XGBoost Classifier',\n",
    " 'Adaboost Classifier',\n",
    " 'Gradient Boosting Machine Classifier',\n",
    " 'Extra Trees Classifier',\n",
    " 'Stacked Ensemble Classifier',\n",
    " 'Deep Learning Ensemble Classifier']\n",
    "    \n",
    "plt.figure(figsize = (25,5))\n",
    "subcategorybar(models, [StackingEnsemblesDF['Accuracy Score (%)'], StackingEnsemblesDF['Precision'], StackingEnsemblesDF['Sensitivity'], StackingEnsemblesDF['Specificity'], \n",
    "                        StackingEnsemblesDF['F1 Score'], StackingEnsemblesDF['Receiver Operating Characteristics (ROC)'], StackingEnsemblesDF['Log Loss'], StackingEnsemblesDF['Matthews Correlation Coefficient (MCC)']])\n",
    "plt.ylim(0.8, 1.0)\n",
    "cols = ['Accuracy Score (%)',\n",
    "        'Precision', \n",
    "        'Sensitivity',\n",
    "        'Specificity',\n",
    "        'F1 Score',\n",
    "        'Receiver Operating Characteristics (ROC)',\n",
    "        'Log Loss',\n",
    "        'Matthews Correlation Coefficient (MCC)'\n",
    "]\n",
    "plt.xticks(rotation = 90)\n",
    "plt.legend(cols, bbox_to_anchor=(1.01, 1.01),  fancybox=False, shadow=False)\n",
    "plt.xlabel('Model')\n",
    "plt.title(\"Comparison of Models\")\n",
    "plt.show()"
   ]
  },
  {
   "cell_type": "code",
   "execution_count": null,
   "metadata": {},
   "outputs": [],
   "source": [
    "import ipywidgets as widgets\n",
    "from ipywidgets import interactive\n",
    "import seaborn as sns\n",
    "# Set colormap equal to seaborns light green color palette\n",
    "cm = sns.light_palette(\"green\", as_cmap=True)\n",
    "# Set table styles\n",
    "\n",
    "# Set CSS properties for th elements in dataframe\n",
    "th_props = [\n",
    "  ('font-size', '11px'),\n",
    "  ('text-align', 'center'),\n",
    "  ('font-weight', 'bold'),\n",
    "  ('color', '#6d6d6d'),\n",
    "  ('background-color', '#f7f7f9')\n",
    "  ]\n",
    "\n",
    "# Set CSS properties for td elements in dataframe\n",
    "td_props = [\n",
    "  ('font-size', '28px')\n",
    "  ]\n",
    "\n",
    "def hover(hover_color=\"#ffff99\"):\n",
    "    return dict(selector=\"tr:hover\",\n",
    "                props=[(\"background-color\", \"%s\" % hover_color)])\n",
    "\n",
    "def magnify():\n",
    "    return [dict(selector=\"th\",\n",
    "                 props=[(\"font-size\", \"20pt\")]),\n",
    "            dict(selector=\"td\",\n",
    "                 props=[('padding', \"0em 0em\")]),\n",
    "            dict(selector=\"th:hover\",\n",
    "                 props=[(\"font-size\", \"12pt\")]),\n",
    "            dict(selector=\"tr:hover td:hover\",\n",
    "                 props=[('max-width', '200px'),\n",
    "                        ('font-size', '12pt')])\n",
    "]\n",
    "\n",
    "styles = [\n",
    "  magnify(),\n",
    "  dict(selector=\"th\", props=th_props),\n",
    "  dict(selector=\"td\", props=td_props)\n",
    "  ]\n",
    "\n",
    "    \n",
    "items = sorted(StackingEnsemblesDF['Model Name'].unique().tolist())\n",
    " \n",
    "def view(x=''):\n",
    "    if x=='All': return display(StackingEnsemblesDF)\n",
    "    return display(StackingEnsemblesDF[StackingEnsemblesDF['Model Name']==x].style\n",
    "  .background_gradient(cmap=cm, subset=['Accuracy Score (%)'])\n",
    "  .background_gradient(cmap='Blues')\n",
    "  .highlight_max(color='lightgreen')\n",
    "  .highlight_min(color='#lightgreen')\n",
    "  .highlight_max(subset=['Accuracy Score (%)'])\n",
    "  .set_caption('Selected Model')\n",
    "  .format({'Accuracy Score (%)': \"{:.2%}\"})\n",
    "  .hide_index()\n",
    "  .set_table_styles(styles))\n",
    "\n",
    " \n",
    "w = widgets.Select(options=items)\n",
    "interactive(view, x=w)\n"
   ]
  },
  {
   "cell_type": "markdown",
   "metadata": {},
   "source": [
    "## <center> ROC and Precision Recall Curves</center>"
   ]
  },
  {
   "cell_type": "code",
   "execution_count": null,
   "metadata": {},
   "outputs": [],
   "source": [
    "@interact\n",
    "\n",
    "def line_plot(columns = ['Model Name'], model = sorted(StackingEnsemblesDF['Model Name'].unique())):\n",
    "    \n",
    "    StackingEnsemblesDF[StackingEnsemblesDF['Model Name'] == model].plot(kind = 'bar', title = model, figsize = (17,6))\n",
    "    plt.xlabel('Selected Model')\n",
    "    plt.ylabel('Evaluation Scores')\n",
    "    plt.ylim(0.0, 1.0)\n",
    "    plt.legend(loc='center left', bbox_to_anchor=(1.0, 0.5))\n",
    "    plt.show()"
   ]
  },
  {
   "cell_type": "markdown",
   "metadata": {},
   "source": [
    "## <center>Feature Importance  <a id='data-conc'></a></center>\n",
    "\n",
    "- As we have seen, stacked ensemble of power machine learning algorithms resulted in higher performance than any individual machine learning model.\n",
    "- We have also interpreted second best performing algo i.e., random forest algorithm\n",
    "- The top most contribution features are shown in the feature importance plot below. \n"
   ]
  },
  {
   "cell_type": "markdown",
   "metadata": {},
   "source": [
    "<p align=\"center\">\n",
    "  <img src=\"imgs/merge.jpg\" width = 2500>\n",
    "</p>"
   ]
  },
  {
   "cell_type": "code",
   "execution_count": null,
   "metadata": {},
   "outputs": [],
   "source": []
  }
 ],
 "metadata": {
  "kernelspec": {
   "display_name": "Python 3",
   "language": "python",
   "name": "python3"
  },
  "language_info": {
   "codemirror_mode": {
    "name": "ipython",
    "version": 3
   },
   "file_extension": ".py",
   "mimetype": "text/x-python",
   "name": "python",
   "nbconvert_exporter": "python",
   "pygments_lexer": "ipython3",
   "version": "3.8.3"
  }
 },
 "nbformat": 4,
 "nbformat_minor": 2
}
